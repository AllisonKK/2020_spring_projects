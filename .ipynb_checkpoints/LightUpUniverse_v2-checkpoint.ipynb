{
 "cells": [
  {
   "cell_type": "code",
   "execution_count": 693,
   "metadata": {},
   "outputs": [
    {
     "data": {
      "text/plain": [
       "\"\\nUnify Encoding:\\n\\n'*': light bulb  \\n'#': wall(black square) without number  \\n'0-4': wall(black square) with number  \\n'A-Z': wormhole (same character on different grid means same pair of wormholes)\\n'_': empty cell(no wall/light bulb/wormhole)\\n'!': can not put light bulb\\n'^': empty but lit by other bulbs\\n\""
      ]
     },
     "execution_count": 693,
     "metadata": {},
     "output_type": "execute_result"
    }
   ],
   "source": [
    "'''\n",
    "Unify Encoding:\n",
    "\n",
    "'*': light bulb  \n",
    "'#': wall(black square) without number  \n",
    "'0-4': wall(black square) with number  \n",
    "'A-Z': wormhole (same character on different grid means same pair of wormholes)\n",
    "'_': empty cell(no wall/light bulb/wormhole)\n",
    "'!': can not put light bulb\n",
    "'^': empty but lit by other bulbs\n",
    "'''"
   ]
  },
  {
   "cell_type": "code",
   "execution_count": 718,
   "metadata": {},
   "outputs": [],
   "source": [
    "import copy\n",
    "import random\n",
    "import time \n",
    "from tkinter import _flatten"
   ]
  },
  {
   "cell_type": "markdown",
   "metadata": {},
   "source": [
    "# Creating Puzzle"
   ]
  },
  {
   "cell_type": "markdown",
   "metadata": {},
   "source": [
    "## Step1: Initialization"
   ]
  },
  {
   "cell_type": "code",
   "execution_count": 719,
   "metadata": {},
   "outputs": [],
   "source": [
    "def init_grids(size:tuple):\n",
    "    '''\n",
    "    Initialize grids based on given size.\n",
    "    parameter:\n",
    "        size: size of the grids(eg:(4,4) both grids are 4 by 4 grid)\n",
    "    return: \n",
    "        grids: [grid0, grid1]\n",
    "        empty_loc: emptu locations(all)\n",
    "    '''\n",
    "    grid0 = []\n",
    "    tp_empty_loc0 = []\n",
    "    \n",
    "    for i in range(size[0]):\n",
    "        grid0.append([])\n",
    "        for j in range(size[1]):\n",
    "            grid0[i].append('_')\n",
    "            tp_empty_loc0.append((i,j))\n",
    "            \n",
    "    grid1 = copy.deepcopy(grid0)\n",
    "    tp_empty_loc1 = copy.deepcopy(tp_empty_loc0)\n",
    "    \n",
    "    init_grids = [grid0,grid1]\n",
    "    empty_loc = [tp_empty_loc0, tp_empty_loc1]\n",
    "    \n",
    "    return init_grids, empty_loc"
   ]
  },
  {
   "cell_type": "code",
   "execution_count": 720,
   "metadata": {},
   "outputs": [
    {
     "data": {
      "text/plain": [
       "[[['_', '_', '_', '_', '_', '_'],\n",
       "  ['_', '_', '_', '_', '_', '_'],\n",
       "  ['_', '_', '_', '_', '_', '_'],\n",
       "  ['_', '_', '_', '_', '_', '_'],\n",
       "  ['_', '_', '_', '_', '_', '_'],\n",
       "  ['_', '_', '_', '_', '_', '_']],\n",
       " [['_', '_', '_', '_', '_', '_'],\n",
       "  ['_', '_', '_', '_', '_', '_'],\n",
       "  ['_', '_', '_', '_', '_', '_'],\n",
       "  ['_', '_', '_', '_', '_', '_'],\n",
       "  ['_', '_', '_', '_', '_', '_'],\n",
       "  ['_', '_', '_', '_', '_', '_']]]"
      ]
     },
     "execution_count": 720,
     "metadata": {},
     "output_type": "execute_result"
    }
   ],
   "source": [
    "# test init_grids\n",
    "test_grid,empty_loc = init_grids((6,6))\n",
    "test_grid"
   ]
  },
  {
   "cell_type": "code",
   "execution_count": 721,
   "metadata": {},
   "outputs": [
    {
     "name": "stdout",
     "output_type": "stream",
     "text": [
      "[[(0, 0), (0, 1), (0, 2), (0, 3), (0, 4), (0, 5), (1, 0), (1, 1), (1, 2), (1, 3), (1, 4), (1, 5), (2, 0), (2, 1), (2, 2), (2, 3), (2, 4), (2, 5), (3, 0), (3, 1), (3, 2), (3, 3), (3, 4), (3, 5), (4, 0), (4, 1), (4, 2), (4, 3), (4, 4), (4, 5), (5, 0), (5, 1), (5, 2), (5, 3), (5, 4), (5, 5)], [(0, 0), (0, 1), (0, 2), (0, 3), (0, 4), (0, 5), (1, 0), (1, 1), (1, 2), (1, 3), (1, 4), (1, 5), (2, 0), (2, 1), (2, 2), (2, 3), (2, 4), (2, 5), (3, 0), (3, 1), (3, 2), (3, 3), (3, 4), (3, 5), (4, 0), (4, 1), (4, 2), (4, 3), (4, 4), (4, 5), (5, 0), (5, 1), (5, 2), (5, 3), (5, 4), (5, 5)]]\n"
     ]
    }
   ],
   "source": [
    "print(empty_loc)"
   ]
  },
  {
   "cell_type": "code",
   "execution_count": 722,
   "metadata": {},
   "outputs": [
    {
     "data": {
      "text/plain": [
       "36"
      ]
     },
     "execution_count": 722,
     "metadata": {},
     "output_type": "execute_result"
    }
   ],
   "source": [
    "len(empty_loc[0])"
   ]
  },
  {
   "cell_type": "markdown",
   "metadata": {},
   "source": [
    "## Step2: Add Walls"
   ]
  },
  {
   "cell_type": "code",
   "execution_count": 723,
   "metadata": {},
   "outputs": [],
   "source": [
    "def add_walls(init_grids: list, wall_per: float):\n",
    "    '''\n",
    "    Add walls on init_grid, based on wall_per.\n",
    "    parameter：\n",
    "        init_grid: empty initialized grids\n",
    "        wall_per: percentage of black squares\n",
    "    return:\n",
    "        grids: grids after adding walls\n",
    "        n_walls: number of walls in each grid\n",
    "        walls_loc: walls' location\n",
    "    '''\n",
    "    grids = init_grids\n",
    "    r, c = len(init_grids[0]), len(init_grids[0][0])\n",
    "    n_cells = r*c\n",
    "    n_walls = int(n_cells*wall_per)\n",
    "    walls_loc = []\n",
    "    for i in range(2):\n",
    "        tp = random.sample(range(n_cells), n_walls)\n",
    "        walls_loc.append([])\n",
    "        for j in tp:\n",
    "            tp_i = j//c\n",
    "            tp_j = j%c\n",
    "            grids[i][tp_i][tp_j] = '#'\n",
    "            walls_loc[i].append((tp_i,tp_j))\n",
    "    return grids,n_walls,walls_loc"
   ]
  },
  {
   "cell_type": "code",
   "execution_count": 724,
   "metadata": {},
   "outputs": [
    {
     "data": {
      "text/plain": [
       "[[['_', '_', '_', '_', '_', '_'],\n",
       "  ['_', '_', '#', '_', '#', '_'],\n",
       "  ['_', '_', '_', '_', '#', '_'],\n",
       "  ['_', '#', '#', '_', '#', '_'],\n",
       "  ['_', '#', '_', '_', '#', '_'],\n",
       "  ['_', '_', '_', '_', '#', '_']],\n",
       " [['_', '#', '_', '#', '_', '_'],\n",
       "  ['_', '_', '#', '_', '#', '_'],\n",
       "  ['_', '_', '_', '_', '#', '_'],\n",
       "  ['_', '_', '_', '_', '_', '#'],\n",
       "  ['_', '#', '#', '#', '_', '_'],\n",
       "  ['_', '_', '_', '_', '_', '_']]]"
      ]
     },
     "execution_count": 724,
     "metadata": {},
     "output_type": "execute_result"
    }
   ],
   "source": [
    "# test add_wall\n",
    "test_grid, n_walls, walls_loc = add_walls(test_grid,0.25)\n",
    "test_grid"
   ]
  },
  {
   "cell_type": "code",
   "execution_count": 725,
   "metadata": {},
   "outputs": [
    {
     "name": "stdout",
     "output_type": "stream",
     "text": [
      "9\n"
     ]
    },
    {
     "data": {
      "text/plain": [
       "[[(1, 2), (3, 1), (3, 4), (2, 4), (4, 1), (1, 4), (4, 4), (3, 2), (5, 4)],\n",
       " [(4, 3), (3, 5), (4, 1), (2, 4), (0, 3), (1, 4), (1, 2), (4, 2), (0, 1)]]"
      ]
     },
     "execution_count": 725,
     "metadata": {},
     "output_type": "execute_result"
    }
   ],
   "source": [
    "print(n_walls)\n",
    "walls_loc"
   ]
  },
  {
   "cell_type": "code",
   "execution_count": 726,
   "metadata": {},
   "outputs": [
    {
     "name": "stdout",
     "output_type": "stream",
     "text": [
      "[[(0, 0), (0, 1), (0, 2), (0, 3), (0, 4), (0, 5), (1, 0), (1, 1), (1, 3), (1, 5), (2, 0), (2, 1), (2, 2), (2, 3), (2, 5), (3, 0), (3, 3), (3, 5), (4, 0), (4, 2), (4, 3), (4, 5), (5, 0), (5, 1), (5, 2), (5, 3), (5, 5)], [(0, 0), (0, 2), (0, 4), (0, 5), (1, 0), (1, 1), (1, 3), (1, 5), (2, 0), (2, 1), (2, 2), (2, 3), (2, 5), (3, 0), (3, 1), (3, 2), (3, 3), (3, 4), (4, 0), (4, 4), (4, 5), (5, 0), (5, 1), (5, 2), (5, 3), (5, 4), (5, 5)]]\n"
     ]
    }
   ],
   "source": [
    "for i in range(2):\n",
    "    for j in walls_loc[i]:\n",
    "        empty_loc[i].remove(j)\n",
    "print(empty_loc)"
   ]
  },
  {
   "cell_type": "code",
   "execution_count": 727,
   "metadata": {},
   "outputs": [
    {
     "data": {
      "text/plain": [
       "27"
      ]
     },
     "execution_count": 727,
     "metadata": {},
     "output_type": "execute_result"
    }
   ],
   "source": [
    "len(empty_loc[0])"
   ]
  },
  {
   "cell_type": "markdown",
   "metadata": {},
   "source": [
    "## Step3: Add Wormholes "
   ]
  },
  {
   "cell_type": "code",
   "execution_count": 728,
   "metadata": {},
   "outputs": [],
   "source": [
    "def add_wormholes(walls_added_grids:list, n_wormholes:int, empty_loc:list):\n",
    "    '''\n",
    "    Add wormholes on grids that already add walls\n",
    "    parameter:\n",
    "        walls_added_grids: grids already add walls\n",
    "        n_wormholes: number of wormholes in each grid\n",
    "        empty_loc: list of locations that are still empty\n",
    "    return:\n",
    "        wormhole_added_grids: grids already add wormholes\n",
    "        empty_loc: list of locations that are still empty\n",
    "    '''\n",
    "    wormhole_names = [chr(i) for i in range(65,91)]\n",
    "    for n in range(n_wormholes):\n",
    "        (tp_0_i, tp_0_j) = random.sample(empty_loc[0], 1)[0]\n",
    "        walls_added_grids[0][tp_0_i][tp_0_j] = wormhole_names[n]\n",
    "        empty_loc[0].remove((tp_0_i, tp_0_j))\n",
    "        (tp_1_i, tp_1_j) = random.sample(empty_loc[1], 1)[0]\n",
    "        empty_loc[1].remove((tp_1_i, tp_1_j))\n",
    "        walls_added_grids[1][tp_1_i][tp_1_j] = wormhole_names[n]\n",
    "    wormhole_added_grids = walls_added_grids\n",
    "    return wormhole_added_grids, empty_loc"
   ]
  },
  {
   "cell_type": "code",
   "execution_count": 729,
   "metadata": {},
   "outputs": [
    {
     "data": {
      "text/plain": [
       "[[['_', '_', '_', '_', '_', '_'],\n",
       "  ['_', '_', '#', '_', '#', '_'],\n",
       "  ['_', '_', '_', '_', '#', 'A'],\n",
       "  ['_', '#', '#', '_', '#', '_'],\n",
       "  ['_', '#', 'B', '_', '#', '_'],\n",
       "  ['_', '_', '_', '_', '#', '_']],\n",
       " [['_', '#', '_', '#', '_', '_'],\n",
       "  ['_', '_', '#', '_', '#', 'B'],\n",
       "  ['_', '_', '_', '_', '#', '_'],\n",
       "  ['_', '_', '_', '_', '_', '#'],\n",
       "  ['_', '#', '#', '#', 'A', '_'],\n",
       "  ['_', '_', '_', '_', '_', '_']]]"
      ]
     },
     "execution_count": 729,
     "metadata": {},
     "output_type": "execute_result"
    }
   ],
   "source": [
    "# test add_wormholes\n",
    "wormhole_added_grids, empty_loc = add_wormholes(test_grid, 2, empty_loc)\n",
    "wormhole_added_grids"
   ]
  },
  {
   "cell_type": "code",
   "execution_count": 730,
   "metadata": {},
   "outputs": [
    {
     "name": "stdout",
     "output_type": "stream",
     "text": [
      "[[(0, 0), (0, 1), (0, 2), (0, 3), (0, 4), (0, 5), (1, 0), (1, 1), (1, 3), (1, 5), (2, 0), (2, 1), (2, 2), (2, 3), (3, 0), (3, 3), (3, 5), (4, 0), (4, 3), (4, 5), (5, 0), (5, 1), (5, 2), (5, 3), (5, 5)], [(0, 0), (0, 2), (0, 4), (0, 5), (1, 0), (1, 1), (1, 3), (2, 0), (2, 1), (2, 2), (2, 3), (2, 5), (3, 0), (3, 1), (3, 2), (3, 3), (3, 4), (4, 0), (4, 5), (5, 0), (5, 1), (5, 2), (5, 3), (5, 4), (5, 5)]]\n",
      "25\n"
     ]
    }
   ],
   "source": [
    "print(empty_loc)\n",
    "print(len(empty_loc[0]))"
   ]
  },
  {
   "cell_type": "markdown",
   "metadata": {},
   "source": [
    "## Step4: Add Light Bulbs"
   ]
  },
  {
   "cell_type": "code",
   "execution_count": 731,
   "metadata": {},
   "outputs": [
    {
     "name": "stdout",
     "output_type": "stream",
     "text": [
      "[[(0, 0), (0, 1), (0, 2), (0, 3), (0, 4), (0, 5), (1, 0), (1, 1), (1, 3), (1, 5), (2, 0), (2, 1), (2, 2), (2, 3), (3, 0), (3, 3), (3, 5), (4, 0), (4, 3), (4, 5), (5, 0), (5, 1), (5, 2), (5, 3), (5, 5)], [(0, 0), (0, 2), (0, 4), (0, 5), (1, 0), (1, 1), (1, 3), (2, 0), (2, 1), (2, 2), (2, 3), (2, 5), (3, 0), (3, 1), (3, 2), (3, 3), (3, 4), (4, 0), (4, 5), (5, 0), (5, 1), (5, 2), (5, 3), (5, 4), (5, 5)]]\n",
      "25\n"
     ]
    }
   ],
   "source": [
    "empty_and_not_lit_loc = copy.deepcopy(empty_loc)\n",
    "print(empty_and_not_lit_loc)\n",
    "print(len(empty_and_not_lit_loc[0]))"
   ]
  },
  {
   "cell_type": "code",
   "execution_count": 732,
   "metadata": {},
   "outputs": [
    {
     "data": {
      "text/plain": [
       "[[(0, 2),\n",
       "  (0, 4),\n",
       "  (1, 1),\n",
       "  (1, 3),\n",
       "  (1, 5),\n",
       "  (2, 1),\n",
       "  (2, 2),\n",
       "  (2, 3),\n",
       "  (3, 0),\n",
       "  (3, 3),\n",
       "  (3, 5),\n",
       "  (4, 0),\n",
       "  (4, 3),\n",
       "  (4, 5),\n",
       "  (5, 1),\n",
       "  (5, 3),\n",
       "  (5, 5)],\n",
       " [(0, 0),\n",
       "  (0, 2),\n",
       "  (0, 4),\n",
       "  (1, 1),\n",
       "  (1, 3),\n",
       "  (2, 2),\n",
       "  (2, 3),\n",
       "  (2, 5),\n",
       "  (3, 1),\n",
       "  (3, 2),\n",
       "  (3, 3),\n",
       "  (3, 4),\n",
       "  (4, 0),\n",
       "  (4, 5),\n",
       "  (5, 1),\n",
       "  (5, 2),\n",
       "  (5, 3)]]"
      ]
     },
     "execution_count": 732,
     "metadata": {},
     "output_type": "execute_result"
    }
   ],
   "source": [
    "# create prio_bulb_loc(the cells adjacent to walls)\n",
    "prio_bulb_loc = []\n",
    "for i in range(len(empty_loc)): # i 第几个grid eg:0\n",
    "    prio_bulb_loc.append([])\n",
    "    for j in empty_loc[i]: # j 当前这个grid的某个empty loc eg:(0,2)\n",
    "        flag = False\n",
    "        if j[0]-1>=0: # up\n",
    "            if wormhole_added_grids[i][j[0]-1][j[1]] == '#':\n",
    "                flag = True\n",
    "        if j[0]+1<len(wormhole_added_grids[i]): # down\n",
    "            if wormhole_added_grids[i][j[0]+1][j[1]] == '#':\n",
    "                flag = True\n",
    "        if j[1]-1>=0: #left\n",
    "            if wormhole_added_grids[i][j[0]][j[1]-1] == '#':\n",
    "                flag = True\n",
    "        if j[1]+1<len(wormhole_added_grids[i][0]): # right\n",
    "            if wormhole_added_grids[i][j[0]][j[1]+1] == '#':\n",
    "                flag = True\n",
    "        if flag:\n",
    "            prio_bulb_loc[i].append(j)\n",
    "\n",
    "prio_bulb_loc"
   ]
  },
  {
   "cell_type": "code",
   "execution_count": null,
   "metadata": {},
   "outputs": [],
   "source": []
  },
  {
   "cell_type": "code",
   "execution_count": 733,
   "metadata": {},
   "outputs": [],
   "source": [
    "def light_up(wormhole_added_grids: list, bulb_loc: list, empty_and_not_lit_loc: list, prio_bulb_loc: list):\n",
    "    '''\n",
    "    update record after adding a bulb on bulb_loc\n",
    "    parameters:\n",
    "        wormhole_added_grids: grids already add wormholes\n",
    "        bulb_loc: the location that you want to put a bulb \n",
    "            eg:[x,y,z] - xth gird, yth row, zth column\n",
    "        empty_and_not_lit_loc: location of empty and not lit cells\n",
    "    return:\n",
    "        wormhole_added_grids: grids after adding a bulb on bulb_loc\n",
    "        empty_and_not_lit_loc: location of empty and not lit cells\n",
    "    '''\n",
    "    wormhole_added_grids[bulb_loc[0]][bulb_loc[1]][bulb_loc[2]] = 'b'\n",
    "    # light up\n",
    "    \n",
    "    ## up\n",
    "    cur_loc = copy.deepcopy(bulb_loc)\n",
    "    cur_loc[1] -= 1\n",
    "    while cur_loc[1]>=0:\n",
    "        # case1: current cell is empty and not lit by other bulbs -> light up it\n",
    "        if wormhole_added_grids[cur_loc[0]][cur_loc[1]][cur_loc[2]] == '_':\n",
    "            wormhole_added_grids[cur_loc[0]][cur_loc[1]][cur_loc[2]] ='^'\n",
    "            empty_and_not_lit_loc[cur_loc[0]].remove((cur_loc[1],cur_loc[2]))\n",
    "            if (cur_loc[1], cur_loc[2]) in prio_bulb_loc[cur_loc[0]]:\n",
    "                prio_bulb_loc[cur_loc[0]].remove((cur_loc[1], cur_loc[2]))\n",
    "            \n",
    "        # case2: current cell is a wormhole -> go to another gird's corresponding wormhole\n",
    "        if wormhole_added_grids[cur_loc[0]][cur_loc[1]][cur_loc[2]] in [chr(i) for i in range(65,91)]:\n",
    "            wormhole = wormhole_added_grids[cur_loc[0]][cur_loc[1]][cur_loc[2]] # eg: 'A','B'...\n",
    "            tp_grid_index = 1-cur_loc[0]\n",
    "            tp_i = list(_flatten(wormhole_added_grids[tp_grid_index])).index(wormhole) // len(wormhole_added_grids[tp_grid_index][0])\n",
    "            tp_j = list(_flatten(wormhole_added_grids[tp_grid_index])).index(wormhole) % len(wormhole_added_grids[tp_grid_index][0])\n",
    "            cur_loc = [tp_grid_index, tp_i, tp_j]\n",
    "        # case3: current cell is a wall -> stop here\n",
    "        if wormhole_added_grids[cur_loc[0]][cur_loc[1]][cur_loc[2]] == '#' or type(wormhole_added_grids[cur_loc[0]][cur_loc[1]][cur_loc[2]])==int:\n",
    "            break\n",
    "        # case4: jump in a loop of wormhole\n",
    "        if cur_loc == bulb_loc:\n",
    "            break\n",
    "            \n",
    "        cur_loc[1] -= 1\n",
    "        \n",
    "    ## down\n",
    "    cur_loc = copy.deepcopy(bulb_loc)\n",
    "    cur_loc[1] += 1\n",
    "    while cur_loc[1]<len(wormhole_added_grids[cur_loc[0]]):\n",
    "        # case1: current cell is empty and not lit by other bulbs -> light up it\n",
    "        if wormhole_added_grids[cur_loc[0]][cur_loc[1]][cur_loc[2]] == '_':\n",
    "            wormhole_added_grids[cur_loc[0]][cur_loc[1]][cur_loc[2]] ='^'\n",
    "            empty_and_not_lit_loc[cur_loc[0]].remove((cur_loc[1],cur_loc[2]))\n",
    "            if (cur_loc[1], cur_loc[2]) in prio_bulb_loc[cur_loc[0]]:\n",
    "                prio_bulb_loc[cur_loc[0]].remove((cur_loc[1], cur_loc[2]))\n",
    "        # case2: current cell is a wormhole -> go to another gird's corresponding wormhole\n",
    "        if wormhole_added_grids[cur_loc[0]][cur_loc[1]][cur_loc[2]] in [chr(i) for i in range(65,91)]:\n",
    "            wormhole = wormhole_added_grids[cur_loc[0]][cur_loc[1]][cur_loc[2]] # eg: 'A','B'...\n",
    "            tp_grid_index = 1-cur_loc[0]\n",
    "            tp_i = list(_flatten(wormhole_added_grids[tp_grid_index])).index(wormhole) // len(wormhole_added_grids[tp_grid_index][0])\n",
    "            tp_j = list(_flatten(wormhole_added_grids[tp_grid_index])).index(wormhole) % len(wormhole_added_grids[tp_grid_index][0])\n",
    "            cur_loc = [tp_grid_index, tp_i, tp_j]\n",
    "        # case3: current cell is a wall -> stop here\n",
    "        if wormhole_added_grids[cur_loc[0]][cur_loc[1]][cur_loc[2]] == '#' or type(wormhole_added_grids[cur_loc[0]][cur_loc[1]][cur_loc[2]])==int:\n",
    "            break    \n",
    "        # case4: jump in a loop of wormhole\n",
    "        if cur_loc == bulb_loc:\n",
    "            break\n",
    "            \n",
    "        cur_loc[1] += 1\n",
    "        \n",
    "    ## left\n",
    "    cur_loc = copy.deepcopy(bulb_loc)\n",
    "    cur_loc[2] -= 1\n",
    "    while cur_loc[2]>=0:\n",
    "        # case1: current cell is empty and not lit by other bulbs -> light up it\n",
    "        if wormhole_added_grids[cur_loc[0]][cur_loc[1]][cur_loc[2]] == '_':\n",
    "            wormhole_added_grids[cur_loc[0]][cur_loc[1]][cur_loc[2]] ='^'\n",
    "            empty_and_not_lit_loc[cur_loc[0]].remove((cur_loc[1],cur_loc[2]))\n",
    "            if (cur_loc[1], cur_loc[2]) in prio_bulb_loc[cur_loc[0]]:\n",
    "                prio_bulb_loc[cur_loc[0]].remove((cur_loc[1], cur_loc[2]))\n",
    "        # case2: current cell is a wormhole -> go to another gird's corresponding wormhole\n",
    "        if wormhole_added_grids[cur_loc[0]][cur_loc[1]][cur_loc[2]] in [chr(i) for i in range(65,91)]:\n",
    "            wormhole = wormhole_added_grids[cur_loc[0]][cur_loc[1]][cur_loc[2]] # eg: 'A','B'...\n",
    "            tp_grid_index = 1-cur_loc[0]\n",
    "            tp_i = list(_flatten(wormhole_added_grids[tp_grid_index])).index(wormhole) // len(wormhole_added_grids[tp_grid_index][0])\n",
    "            tp_j = list(_flatten(wormhole_added_grids[tp_grid_index])).index(wormhole) % len(wormhole_added_grids[tp_grid_index][0])\n",
    "            cur_loc = [tp_grid_index, tp_i, tp_j]\n",
    "        # case3: current cell is a wall -> stop here\n",
    "        if wormhole_added_grids[cur_loc[0]][cur_loc[1]][cur_loc[2]] == '#'or type(wormhole_added_grids[cur_loc[0]][cur_loc[1]][cur_loc[2]])==int:\n",
    "            break\n",
    "        # case4: jump in a loop of wormhole\n",
    "        if cur_loc == bulb_loc:\n",
    "            break\n",
    "            \n",
    "        cur_loc[2] -= 1\n",
    "        \n",
    "    ## right\n",
    "    cur_loc = copy.deepcopy(bulb_loc)\n",
    "    cur_loc[2] += 1\n",
    "    while cur_loc[2]<len(wormhole_added_grids[cur_loc[0]][0]):\n",
    "        # case1: current cell is empty and not lit by other bulbs -> light up it\n",
    "        if wormhole_added_grids[cur_loc[0]][cur_loc[1]][cur_loc[2]] == '_':\n",
    "            wormhole_added_grids[cur_loc[0]][cur_loc[1]][cur_loc[2]] ='^'\n",
    "            empty_and_not_lit_loc[cur_loc[0]].remove((cur_loc[1],cur_loc[2]))\n",
    "            if (cur_loc[1], cur_loc[2]) in prio_bulb_loc[cur_loc[0]]:\n",
    "                prio_bulb_loc[cur_loc[0]].remove((cur_loc[1], cur_loc[2]))\n",
    "        # case2: current cell is a wormhole -> go to another gird's corresponding wormhole\n",
    "        if wormhole_added_grids[cur_loc[0]][cur_loc[1]][cur_loc[2]] in [chr(i) for i in range(65,91)]:\n",
    "            wormhole = wormhole_added_grids[cur_loc[0]][cur_loc[1]][cur_loc[2]] # eg: 'A','B'...\n",
    "            tp_grid_index = 1-cur_loc[0]\n",
    "            tp_i = list(_flatten(wormhole_added_grids[tp_grid_index])).index(wormhole) // len(wormhole_added_grids[tp_grid_index][0])\n",
    "            tp_j = list(_flatten(wormhole_added_grids[tp_grid_index])).index(wormhole) % len(wormhole_added_grids[tp_grid_index][0])\n",
    "            cur_loc = [tp_grid_index, tp_i, tp_j]\n",
    "        # case3: current cell is a wall -> stop here\n",
    "        if wormhole_added_grids[cur_loc[0]][cur_loc[1]][cur_loc[2]] == '#' or type(wormhole_added_grids[cur_loc[0]][cur_loc[1]][cur_loc[2]])==int:\n",
    "        # case4: jump in a loop of wormhole\n",
    "            break\n",
    "        if cur_loc == bulb_loc:\n",
    "            break\n",
    "            \n",
    "        cur_loc[2] += 1\n",
    "        \n",
    "    return wormhole_added_grids, empty_and_not_lit_loc, prio_bulb_loc"
   ]
  },
  {
   "cell_type": "code",
   "execution_count": 734,
   "metadata": {},
   "outputs": [],
   "source": [
    "# test light_up function\n",
    "# light_up(wormhole_added_grids, [0,0,1], empty_and_not_lit_loc)"
   ]
  },
  {
   "cell_type": "code",
   "execution_count": 735,
   "metadata": {},
   "outputs": [
    {
     "data": {
      "text/plain": [
       "([[['_', 'A', '_'], ['^', 'b', '^'], ['_', 'B', '_']],\n",
       "  [['_', 'B', '_'], ['_', '^', '_'], ['_', 'A', '_']]],\n",
       " [[(0, 0), (0, 2), (1, 1), (2, 0), (2, 2)],\n",
       "  [(0, 0), (0, 2), (1, 0), (1, 2), (2, 0), (2, 2)]],\n",
       " [[], []])"
      ]
     },
     "execution_count": 735,
     "metadata": {},
     "output_type": "execute_result"
    }
   ],
   "source": [
    "# test wormhole loop case\n",
    "test_grid = [[['_', 'A', '_'],['_', '_', '_'],['_', 'B', '_']],\n",
    "             [['_', 'B', '_'],['_', '_', '_'],['_', 'A', '_']]]\n",
    "light_up(test_grid, [0,1,1], [[(0,0),(0,2),(1,0),(1,1),(1,2),(2,0),(2,2)],[(0,0),(0,2),(1,0),(1,1),(1,2),(2,0),(2,2)]],[[],[]])"
   ]
  },
  {
   "cell_type": "code",
   "execution_count": 736,
   "metadata": {},
   "outputs": [
    {
     "data": {
      "text/plain": [
       "[[(0, 2),\n",
       "  (0, 4),\n",
       "  (1, 1),\n",
       "  (1, 3),\n",
       "  (1, 5),\n",
       "  (2, 1),\n",
       "  (2, 2),\n",
       "  (2, 3),\n",
       "  (3, 0),\n",
       "  (3, 3),\n",
       "  (3, 5),\n",
       "  (4, 0),\n",
       "  (4, 3),\n",
       "  (4, 5),\n",
       "  (5, 1),\n",
       "  (5, 3),\n",
       "  (5, 5)],\n",
       " [(0, 0),\n",
       "  (0, 2),\n",
       "  (0, 4),\n",
       "  (1, 1),\n",
       "  (1, 3),\n",
       "  (2, 2),\n",
       "  (2, 3),\n",
       "  (2, 5),\n",
       "  (3, 1),\n",
       "  (3, 2),\n",
       "  (3, 3),\n",
       "  (3, 4),\n",
       "  (4, 0),\n",
       "  (4, 5),\n",
       "  (5, 1),\n",
       "  (5, 2),\n",
       "  (5, 3)]]"
      ]
     },
     "execution_count": 736,
     "metadata": {},
     "output_type": "execute_result"
    }
   ],
   "source": [
    "prio_bulb_loc"
   ]
  },
  {
   "cell_type": "code",
   "execution_count": 737,
   "metadata": {},
   "outputs": [
    {
     "data": {
      "text/plain": [
       "[[['_', '_', '_', '_', '_', '_'],\n",
       "  ['_', '_', '#', '_', '#', '_'],\n",
       "  ['_', '_', '_', '_', '#', 'A'],\n",
       "  ['_', '#', '#', '_', '#', '_'],\n",
       "  ['_', '#', 'B', '_', '#', '_'],\n",
       "  ['_', '_', '_', '_', '#', '_']],\n",
       " [['_', '#', '_', '#', '_', '_'],\n",
       "  ['_', '_', '#', '_', '#', 'B'],\n",
       "  ['_', '_', '_', '_', '#', '_'],\n",
       "  ['_', '_', '_', '_', '_', '#'],\n",
       "  ['_', '#', '#', '#', 'A', '_'],\n",
       "  ['_', '_', '_', '_', '_', '_']]]"
      ]
     },
     "execution_count": 737,
     "metadata": {},
     "output_type": "execute_result"
    }
   ],
   "source": [
    "wormhole_added_grids"
   ]
  },
  {
   "cell_type": "code",
   "execution_count": 738,
   "metadata": {},
   "outputs": [],
   "source": [
    "def add_light_bulbs(wormhole_added_grids:list, empty_and_not_lit_loc:list, empty_loc:list ,prio_bulb_loc:list):\n",
    "    '''\n",
    "    Add light bulbs on girds until all cells are not empty or lit by other bulbs. To make it much easier to use numbers on walls \n",
    "    to restrict bulbs' location(higher probability to be unique solution), add bulbs in prio_bulb_loc first randomly, \n",
    "    and then consider other location. \n",
    "    parameters:\n",
    "        wormhole_added_grids: grids already add wormholes\n",
    "        empty_and_not_lit_loc: location of empty and not lit cells\n",
    "        empty_loc: list of locations that are still empty\n",
    "        prio_bulb_loc: the cells adjacent to walls\n",
    "    return:\n",
    "        bulb_added_grids: grids after adding light bulbs\n",
    "    '''\n",
    "    flag = True\n",
    "    #while len(empty_and_not_lit_loc)>0:\n",
    "    while flag:\n",
    "        \n",
    "        # random select a bulb_loc\n",
    "        ## random select a grid\n",
    "        if len(empty_and_not_lit_loc[0])>0 and len(empty_and_not_lit_loc[1])>0:\n",
    "            tp_grid_index = random.sample(range(len(wormhole_added_grids)),1)[0]\n",
    "        elif len(empty_and_not_lit_loc[0])==0:\n",
    "            tp_grid_index = 1\n",
    "        elif len(empty_and_not_lit_loc[1])==0:\n",
    "            tp_grid_index = 0\n",
    "        ## random select a cell in current grid\n",
    "        if len(prio_bulb_loc[tp_grid_index])>0:\n",
    "            tp_loc = random.sample(prio_bulb_loc[tp_grid_index],1)[0]\n",
    "            prio_bulb_loc[tp_grid_index].remove(tp_loc)\n",
    "            empty_and_not_lit_loc[tp_grid_index].remove(tp_loc)\n",
    "            empty_loc[tp_grid_index].remove(tp_loc)\n",
    "        elif len(prio_bulb_loc[tp_grid_index])==0:\n",
    "            tp_loc = random.sample(empty_and_not_lit_loc[tp_grid_index],1)[0]\n",
    "            empty_and_not_lit_loc[tp_grid_index].remove(tp_loc)\n",
    "            empty_loc[tp_grid_index].remove(tp_loc)        \n",
    "        wormhole_added_grids, empty_and_not_lit_loc, prio_bulb_loc = light_up(wormhole_added_grids, [tp_grid_index,tp_loc[0],tp_loc[1]], empty_and_not_lit_loc, prio_bulb_loc)\n",
    "        \n",
    "        # if no cell is available:\n",
    "        if len(empty_and_not_lit_loc[0])==0 and len(empty_and_not_lit_loc[1])==0:\n",
    "            flag = False\n",
    "            \n",
    "        bulb_added_grids = wormhole_added_grids\n",
    "    return bulb_added_grids"
   ]
  },
  {
   "cell_type": "code",
   "execution_count": 739,
   "metadata": {},
   "outputs": [
    {
     "name": "stdout",
     "output_type": "stream",
     "text": [
      "^|^|^|^|b|^|      ^|#|b|#|b|^|\n",
      "^|^|#|^|#|b|      ^|^|#|b|#|B|\n",
      "^|b|^|^|#|A|      ^|^|b|^|#|b|\n",
      "^|#|#|b|#|^|      ^|b|^|^|^|#|\n",
      "b|#|B|^|#|b|      b|#|#|#|A|b|\n",
      "^|b|^|^|#|^|      ^|^|^|b|^|^|\n"
     ]
    }
   ],
   "source": [
    "bulb_added_grids = add_light_bulbs(wormhole_added_grids, empty_and_not_lit_loc, empty_loc ,prio_bulb_loc)\n",
    "display(bulb_added_grids)"
   ]
  },
  {
   "cell_type": "markdown",
   "metadata": {},
   "source": [
    "## Step5: Add numbers on walls"
   ]
  },
  {
   "cell_type": "code",
   "execution_count": 740,
   "metadata": {},
   "outputs": [
    {
     "data": {
      "text/plain": [
       "[[(1, 2), (3, 1), (3, 4), (2, 4), (4, 1), (1, 4), (4, 4), (3, 2), (5, 4)],\n",
       " [(4, 3), (3, 5), (4, 1), (2, 4), (0, 3), (1, 4), (1, 2), (4, 2), (0, 1)]]"
      ]
     },
     "execution_count": 740,
     "metadata": {},
     "output_type": "execute_result"
    }
   ],
   "source": [
    "walls_loc"
   ]
  },
  {
   "cell_type": "code",
   "execution_count": 741,
   "metadata": {},
   "outputs": [
    {
     "data": {
      "text/plain": [
       "[[], []]"
      ]
     },
     "execution_count": 741,
     "metadata": {},
     "output_type": "execute_result"
    }
   ],
   "source": [
    "prio_bulb_loc"
   ]
  },
  {
   "cell_type": "code",
   "execution_count": 742,
   "metadata": {},
   "outputs": [
    {
     "data": {
      "text/plain": [
       "[(1, 0)]"
      ]
     },
     "execution_count": 742,
     "metadata": {},
     "output_type": "execute_result"
    }
   ],
   "source": [
    "random.sample([(1, 3), (1, 0), (0, 0), (3, 2)],1)"
   ]
  },
  {
   "cell_type": "code",
   "execution_count": 743,
   "metadata": {},
   "outputs": [],
   "source": [
    "def add_numbers_on_walls(bulb_added_grids: list, walls_loc:list, hard:bool):\n",
    "    '''\n",
    "    Add numbers on walls to restrict bulb location, based on difficult:\n",
    "        easy: record numbers on all walls\n",
    "        hard: remain some walls without bulb number\n",
    "    parameters:\n",
    "        bulb_added_grids: grids after adding light bulbs\n",
    "        walls_loc: walls' location\n",
    "        hard: difficulty(True: hard, False: easy)\n",
    "    return:\n",
    "        \n",
    "    '''\n",
    "    hard_ind = 0.8 # update around 80% walls\n",
    "    update_walls_loc = copy.deepcopy(walls_loc)\n",
    "    if hard:\n",
    "        for i in range(2):\n",
    "            del_index = copy.deepcopy(random.sample(walls_loc[i],round(len(walls_loc[i])*(1-hard_ind))))\n",
    "            for j in del_index:\n",
    "                update_walls_loc[i].remove(j)\n",
    "                \n",
    "    numbers_on_walls = []\n",
    "    for i in range(2):\n",
    "        #numbers_on_walls.append([])\n",
    "        for j in update_walls_loc[i]:\n",
    "            tp = 0\n",
    "            if j[0]-1>=0: # up\n",
    "                if bulb_added_grids[i][j[0]-1][j[1]] == 'b':\n",
    "                    tp += 1\n",
    "            if j[0]+1<len(bulb_added_grids[i]): # down\n",
    "                if bulb_added_grids[i][j[0]+1][j[1]] == 'b':\n",
    "                    tp += 1\n",
    "            if j[1]-1>=0: #left\n",
    "                if bulb_added_grids[i][j[0]][j[1]-1] == 'b':\n",
    "                    tp += 1\n",
    "            if j[1]+1<len(bulb_added_grids[i][0]): # right\n",
    "                if bulb_added_grids[i][j[0]][j[1]+1] == 'b':\n",
    "                    tp += 1\n",
    "            #numbers_on_walls[i].append(tp)\n",
    "            bulb_added_grids[i][j[0]][j[1]] = tp\n",
    "    number_added_grids = bulb_added_grids\n",
    "    return number_added_grids"
   ]
  },
  {
   "cell_type": "code",
   "execution_count": 744,
   "metadata": {},
   "outputs": [
    {
     "name": "stdout",
     "output_type": "stream",
     "text": [
      "^|^|^|^|b|^|      ^|1|b|3|b|^|\n",
      "^|^|0|^|2|b|      ^|^|#|b|2|B|\n",
      "^|b|^|^|0|A|      ^|^|b|^|1|b|\n",
      "^|1|#|b|1|^|      ^|b|^|^|^|2|\n",
      "b|2|B|^|1|b|      b|2|0|#|A|b|\n",
      "^|b|^|^|#|^|      ^|^|^|b|^|^|\n"
     ]
    }
   ],
   "source": [
    "number_added_grids = add_numbers_on_walls(bulb_added_grids, walls_loc, True)\n",
    "display(number_added_grids)"
   ]
  },
  {
   "cell_type": "code",
   "execution_count": 745,
   "metadata": {},
   "outputs": [],
   "source": [
    "# create an unverified puzzle:\n",
    "for g in range(len(number_added_grids)):\n",
    "    for i in range(len(number_added_grids[g])):\n",
    "        for j in range(len(number_added_grids[g][i])):\n",
    "            if number_added_grids[g][i][j] == 'b' or number_added_grids[g][i][j] == '^':\n",
    "                number_added_grids[g][i][j] = '_'"
   ]
  },
  {
   "cell_type": "code",
   "execution_count": 746,
   "metadata": {},
   "outputs": [
    {
     "name": "stdout",
     "output_type": "stream",
     "text": [
      "_|_|_|_|_|_|      _|1|_|3|_|_|\n",
      "_|_|0|_|2|_|      _|_|#|_|2|B|\n",
      "_|_|_|_|0|A|      _|_|_|_|1|_|\n",
      "_|1|#|_|1|_|      _|_|_|_|_|2|\n",
      "_|2|B|_|1|_|      _|2|0|#|A|_|\n",
      "_|_|_|_|#|_|      _|_|_|_|_|_|\n"
     ]
    }
   ],
   "source": [
    "display(number_added_grids)"
   ]
  },
  {
   "cell_type": "markdown",
   "metadata": {},
   "source": [
    "## Step6: Verify whether it is unique solution"
   ]
  },
  {
   "cell_type": "code",
   "execution_count": 645,
   "metadata": {},
   "outputs": [],
   "source": [
    "############# TO Do: Use solving function to verify ##########"
   ]
  },
  {
   "cell_type": "markdown",
   "metadata": {},
   "source": [
    "# Solving Puzzle"
   ]
  },
  {
   "cell_type": "code",
   "execution_count": 747,
   "metadata": {},
   "outputs": [
    {
     "data": {
      "text/plain": [
       "\"\\nUnify Encoding:\\n\\n'b': light bulb  \\n'#': wall(black square) without number  \\n'0-4': wall(black square) with number  \\n'A-Z': wormhole (same character on different grid means same pair of wormholes)\\n'_': empty cell(no wall/light bulb/wormhole)\\n'!': can not put light bulb\\n'^': empty but lit by other bulbs\\n\""
      ]
     },
     "execution_count": 747,
     "metadata": {},
     "output_type": "execute_result"
    }
   ],
   "source": [
    "'''\n",
    "Unify Encoding:\n",
    "\n",
    "'b': light bulb  \n",
    "'#': wall(black square) without number  \n",
    "'0-4': wall(black square) with number  \n",
    "'A-Z': wormhole (same character on different grid means same pair of wormholes)\n",
    "'_': empty cell(no wall/light bulb/wormhole)\n",
    "'!': can not put light bulb\n",
    "'^': empty but lit by other bulbs\n",
    "'''"
   ]
  },
  {
   "cell_type": "markdown",
   "metadata": {},
   "source": [
    "## To Saxue:\n",
    "### TO DO: \n",
    "#### 1. Solving puzzle part (logic can refer to the pdf,  deduction first, if not enough, dfs)\n",
    "#### 2. Display"
   ]
  },
  {
   "cell_type": "code",
   "execution_count": 748,
   "metadata": {},
   "outputs": [
    {
     "data": {
      "text/plain": [
       "[[['_', '_', '_', '_', '_', '_'],\n",
       "  ['_', '_', 0, '_', 2, '_'],\n",
       "  ['_', '_', '_', '_', 0, 'A'],\n",
       "  ['_', 1, '#', '_', 1, '_'],\n",
       "  ['_', 2, 'B', '_', 1, '_'],\n",
       "  ['_', '_', '_', '_', '#', '_']],\n",
       " [['_', 1, '_', 3, '_', '_'],\n",
       "  ['_', '_', '#', '_', 2, 'B'],\n",
       "  ['_', '_', '_', '_', 1, '_'],\n",
       "  ['_', '_', '_', '_', '_', 2],\n",
       "  ['_', 2, 0, '#', 'A', '_'],\n",
       "  ['_', '_', '_', '_', '_', '_']]]"
      ]
     },
     "execution_count": 748,
     "metadata": {},
     "output_type": "execute_result"
    }
   ],
   "source": [
    "number_added_grids"
   ]
  },
  {
   "cell_type": "code",
   "execution_count": 749,
   "metadata": {},
   "outputs": [
    {
     "data": {
      "text/plain": [
       "[[(1, 2), (3, 1), (3, 4), (2, 4), (4, 1), (1, 4), (4, 4), (3, 2), (5, 4)],\n",
       " [(4, 3), (3, 5), (4, 1), (2, 4), (0, 3), (1, 4), (1, 2), (4, 2), (0, 1)]]"
      ]
     },
     "execution_count": 749,
     "metadata": {},
     "output_type": "execute_result"
    }
   ],
   "source": [
    "walls_loc\n"
   ]
  },
  {
   "cell_type": "code",
   "execution_count": 750,
   "metadata": {},
   "outputs": [
    {
     "data": {
      "text/plain": [
       "[[['_', '_', '_', '_', '_', '_'],\n",
       "  ['_', '_', 0, '_', 2, '_'],\n",
       "  ['_', '_', '_', '_', 0, 'A'],\n",
       "  ['_', 1, '#', '_', 1, '_'],\n",
       "  ['_', 2, 'B', '_', 1, '_'],\n",
       "  ['_', '_', '_', '_', '#', '_']],\n",
       " [['_', 1, '_', 3, '_', '_'],\n",
       "  ['_', '_', '#', '_', 2, 'B'],\n",
       "  ['_', '_', '_', '_', 1, '_'],\n",
       "  ['_', '_', '_', '_', '_', 2],\n",
       "  ['_', 2, 0, '#', 'A', '_'],\n",
       "  ['_', '_', '_', '_', '_', '_']]]"
      ]
     },
     "execution_count": 750,
     "metadata": {},
     "output_type": "execute_result"
    }
   ],
   "source": [
    "number_added_grids"
   ]
  },
  {
   "cell_type": "code",
   "execution_count": 1199,
   "metadata": {},
   "outputs": [
    {
     "name": "stdout",
     "output_type": "stream",
     "text": [
      "no bubls around\n",
      "no bubls around\n",
      "no bubls around\n",
      "sure add bubls\n",
      "sure add bubls\n",
      "sure add bubls\n",
      "sure add bubls\n",
      "sure add bubls\n",
      "sure add bubls\n",
      "sure add bubls\n"
     ]
    },
    {
     "data": {
      "text/plain": [
       "[[0, 4, 0], [0, 5, 1], [0, 0, 4], [0, 1, 5], [1, 0, 2], [1, 1, 3], [1, 0, 4]]"
      ]
     },
     "execution_count": 1199,
     "metadata": {},
     "output_type": "execute_result"
    }
   ],
   "source": [
    "puzzle=copy.deepcopy(number_added_grids)\n",
    "\n",
    "def count_neb(i,j,puzzle,index,sign):\n",
    "    count=0\n",
    "    if i-1>=0 and puzzle[index][i-1][j]==sign :\n",
    "        count+=1\n",
    "    if j-1>=0 and puzzle[index][i][j-1]==sign:\n",
    "        count+=1\n",
    "    if i+1<len(puzzle[0]) and puzzle[index][i+1][j]==sign:\n",
    "        count+=1\n",
    "    if j+1<len(puzzle[0][0]) and puzzle[index][i][j+1]==sign :\n",
    "        count+=1\n",
    "    return count\n",
    "        \n",
    "        \n",
    "def place_bulbs(walls_loc,puzzle):\n",
    "    index=0\n",
    "    b_list=[]\n",
    "    for i in range(len(walls_loc)):\n",
    "        if(i==1):\n",
    "            index=1\n",
    "        for j in walls_loc[i]:  \n",
    "            count1=count_neb(j[0],j[1],puzzle,index,\"b\")\n",
    "            count2=count_neb(j[0],j[1],puzzle,index,\"_\")\n",
    "            if(type(puzzle[index][j[0]][j[1]])==int and puzzle[index][j[0]][j[1]]>=count1+count2):\n",
    "                print(\"sure add bubls\")\n",
    "                place_bulbs_step1(puzzle,j[0],j[1],index,\"b\", b_list)            \n",
    "            #print(\"----------------------------------------\")\n",
    "    return b_list\n",
    "\n",
    "\n",
    "def place_bulbs_step1(puzzle,i,j,index,sign, b_list):\n",
    "    if i-1>=0 and puzzle[index][i-1][j]==\"_\" :\n",
    "        puzzle[index][i-1][j]=sign\n",
    "        b_list.append([index,i-1,j])\n",
    "    if j-1>=0 and puzzle[index][i][j-1]==\"_\":\n",
    "        puzzle[index][i][j-1]=sign\n",
    "        b_list.append([index,i,j-1])\n",
    "    if i+1<len(puzzle[0]) and puzzle[index][i+1][j]==\"_\":\n",
    "        puzzle[index][i+1][j]=sign\n",
    "        b_list.append([index,i+1,j])\n",
    "    if j+1<len(puzzle[0][0]) and puzzle[index][i][j+1]==\"_\":\n",
    "        puzzle[index][i][j+1]=sign\n",
    "        b_list.append([index,i,j+1])\n",
    "def no_bulbs(walls_loc,puzzle):\n",
    "    index=0\n",
    "    test=[]\n",
    "    for i in range(len(walls_loc)):\n",
    "        if(i==1):\n",
    "            index=1\n",
    "        for j in walls_loc[i]:\n",
    "            count=count_neb(j[0],j[1],puzzle,index,\"b\")\n",
    "            if puzzle[index][j[0]][j[1]]==0 or (type(puzzle[index][j[0]][j[1]])==int and puzzle[index][j[0]][j[1]]<=count):\n",
    "                print(\"no bubls around\")\n",
    "                place_bulbs_step1(puzzle,j[0],j[1],index,\"!\",test)            \n",
    "            #print(\"----------------------------------------\")\n",
    "no_bulbs(walls_loc,puzzle)\n",
    "curr_bulbs=place_bulbs(walls_loc,puzzle)\n",
    "curr_bulbs"
   ]
  },
  {
   "cell_type": "code",
   "execution_count": 1200,
   "metadata": {},
   "outputs": [
    {
     "name": "stdout",
     "output_type": "stream",
     "text": [
      "_|_|!|_|b|_|      _|1|b|3|b|_|\n",
      "_|!|0|!|2|b|      _|_|#|b|2|B|\n",
      "_|_|!|!|0|A|      _|_|_|_|1|_|\n",
      "_|1|#|_|1|_|      _|_|!|_|_|2|\n",
      "b|2|B|_|1|_|      _|2|0|#|A|_|\n",
      "_|b|_|_|#|_|      _|_|!|_|_|_|\n"
     ]
    }
   ],
   "source": [
    "display(puzzle)"
   ]
  },
  {
   "cell_type": "code",
   "execution_count": 1201,
   "metadata": {},
   "outputs": [],
   "source": [
    "empty_loc=[]\n",
    "for index in range(len(puzzle)):\n",
    "    sub=[]\n",
    "    for i in range(len(puzzle[index])):\n",
    "        for j in range(len(puzzle[index][0])):\n",
    "            if(puzzle[index][i][j]==\"_\"):\n",
    "                 sub.append((i,j))\n",
    "    empty_loc.append(sub)\n",
    "    "
   ]
  },
  {
   "cell_type": "code",
   "execution_count": 1202,
   "metadata": {},
   "outputs": [
    {
     "data": {
      "text/plain": [
       "[[(3, 3), (5, 3), (5, 5)], [(1, 1), (2, 2), (3, 3), (5, 3)]]"
      ]
     },
     "execution_count": 1202,
     "metadata": {},
     "output_type": "execute_result"
    }
   ],
   "source": [
    "# create prio_bulb_loc(the cells adjacent to walls)\n",
    "prio_bulb_loc = []\n",
    "for i in range(len(empty_loc)): # i 第几个grid eg:0\n",
    "    prio_bulb_loc.append([])\n",
    "    for j in empty_loc[i]: # j 当前这个grid的某个empty loc eg:(0,2)\n",
    "        flag = False\n",
    "        if j[0]-1>=0: # up\n",
    "            if puzzle[i][j[0]-1][j[1]] == '#':\n",
    "                flag = True\n",
    "        if j[0]+1<len(puzzle[i]): # down\n",
    "            if puzzle[i][j[0]+1][j[1]] == '#':\n",
    "                flag = True\n",
    "        if j[1]-1>=0: #left\n",
    "            if puzzle[i][j[0]][j[1]-1] == '#':\n",
    "                flag = True\n",
    "        if j[1]+1<len(puzzle[i][0]): # right\n",
    "            if puzzle[i][j[0]][j[1]+1] == '#':\n",
    "                flag = True\n",
    "        if flag:\n",
    "            prio_bulb_loc[i].append(j)\n",
    "\n",
    "prio_bulb_loc"
   ]
  },
  {
   "cell_type": "code",
   "execution_count": 1203,
   "metadata": {},
   "outputs": [
    {
     "name": "stdout",
     "output_type": "stream",
     "text": [
      "_|_|!|_|b|_|      _|1|b|3|b|_|\n",
      "_|!|0|!|2|b|      _|_|#|b|2|B|\n",
      "_|_|!|!|0|A|      _|_|_|_|1|_|\n",
      "_|1|#|_|1|_|      _|_|!|_|_|2|\n",
      "b|2|B|_|1|_|      _|2|0|#|A|_|\n",
      "_|b|_|_|#|_|      _|_|!|_|_|_|\n"
     ]
    }
   ],
   "source": [
    "display(puzzle)"
   ]
  },
  {
   "cell_type": "code",
   "execution_count": 1204,
   "metadata": {},
   "outputs": [],
   "source": [
    "for bulb in curr_bulbs:\n",
    "    light_up(puzzle, bulb, empty_loc, prio_bulb_loc)\n",
    "\n"
   ]
  },
  {
   "cell_type": "code",
   "execution_count": 1205,
   "metadata": {},
   "outputs": [
    {
     "name": "stdout",
     "output_type": "stream",
     "text": [
      "^|^|!|^|b|^|      _|1|b|3|b|^|\n",
      "^|!|0|!|2|b|      _|_|#|b|2|B|\n",
      "^|_|!|!|0|A|      _|_|_|^|1|_|\n",
      "^|1|#|_|1|_|      _|_|!|^|_|2|\n",
      "b|2|B|_|1|_|      _|2|0|#|A|_|\n",
      "^|b|^|^|#|_|      _|_|!|_|^|_|\n"
     ]
    }
   ],
   "source": [
    "display(puzzle)"
   ]
  },
  {
   "cell_type": "code",
   "execution_count": 1206,
   "metadata": {},
   "outputs": [],
   "source": [
    "def find_empty(puzzle):\n",
    "    not_lit_loc=[]\n",
    "    for index in range(len(puzzle)):\n",
    "        sub=[]\n",
    "        for i in range(len(puzzle[index])):\n",
    "            for j in range(len(puzzle[index][0])):\n",
    "                if(puzzle[index][i][j]==\"_\" ):\n",
    "                    sub.append((i,j))\n",
    "        not_lit_loc.append(sub)\n",
    "    return not_lit_loc\n",
    "\n",
    "def lit_position(puzzle):\n",
    "    res=[]\n",
    "    for index in range(len(puzzle)):\n",
    "        sub=[]\n",
    "        for i in range(len(puzzle[index])):\n",
    "            for j in range(len(puzzle[index][0])):\n",
    "                if(puzzle[index][i][j]==\"^\"):\n",
    "                    sub.append((i,j))\n",
    "        res.append(sub)\n",
    "    return res\n",
    "empty=find_empty(puzzle)\n",
    "lit_pos=lit_position(puzzle)\n"
   ]
  },
  {
   "cell_type": "code",
   "execution_count": 1207,
   "metadata": {},
   "outputs": [
    {
     "data": {
      "text/plain": [
       "[[(0, 0),\n",
       "  (0, 1),\n",
       "  (0, 3),\n",
       "  (0, 5),\n",
       "  (1, 0),\n",
       "  (2, 0),\n",
       "  (3, 0),\n",
       "  (5, 0),\n",
       "  (5, 2),\n",
       "  (5, 3)],\n",
       " [(0, 5), (2, 3), (3, 3), (5, 4)]]"
      ]
     },
     "execution_count": 1207,
     "metadata": {},
     "output_type": "execute_result"
    }
   ],
   "source": [
    "lit_pos"
   ]
  },
  {
   "cell_type": "code",
   "execution_count": null,
   "metadata": {},
   "outputs": [],
   "source": []
  },
  {
   "cell_type": "code",
   "execution_count": 1209,
   "metadata": {},
   "outputs": [
    {
     "name": "stdout",
     "output_type": "stream",
     "text": [
      "^|^|!|^|b|^|      _|1|b|3|b|^|\n",
      "^|!|0|!|2|b|      _|_|#|b|2|B|\n",
      "^|_|!|!|0|A|      _|_|_|^|1|_|\n",
      "^|1|#|_|1|_|      _|_|!|^|_|2|\n",
      "b|2|B|_|1|_|      _|2|0|#|A|_|\n",
      "^|b|^|^|#|_|      _|_|!|_|^|_|\n"
     ]
    }
   ],
   "source": [
    "def check(puzzle,cell):\n",
    "    row=cell[1]\n",
    "    col=cell[2]\n",
    "    #print(\"------------------------\")\n",
    "    while row>0:\n",
    "        row=row-1\n",
    "        #print(cell,puzzle[cell[0]][row][col])\n",
    "        if(puzzle[cell[0]][row][col]==\"b\"):\n",
    "            print(cell, \"no pass1\")\n",
    "            return False\n",
    "        if(puzzle[cell[0]][row][col]==\"#\" or str(puzzle[cell[0]][row][col]).isupper() or type(puzzle[cell[0]][row][col])==int):\n",
    "            break\n",
    "    #print(\"bbbbbbbbbbbbbbbbbbbbbbbb\")\n",
    "    row=cell[1]\n",
    "    while row<len(puzzle[cell[0]])-1:\n",
    "        row=row+1\n",
    "        #print(cell,puzzle[cell[0]][row][col])\n",
    "        if(puzzle[cell[0]][row][col]==\"b\"):\n",
    "            print(puzzle[cell[0]][row][col],cell, \"no pass2\")\n",
    "            return False\n",
    "        if(puzzle[cell[0]][row][col]==\"#\"or str(puzzle[cell[0]][row][col]).isupper() or type(puzzle[cell[0]][row][col])==int):\n",
    "            break\n",
    " \n",
    "    row=cell[1]\n",
    "    while col<len(puzzle[cell[0]][0])-1:\n",
    "        col=col+1\n",
    "        #print(cell,puzzle[cell[0]][row][col])\n",
    "\n",
    "        if(puzzle[cell[0]][row][col]==\"b\"):\n",
    "            print(cell,puzzle[cell[0]][row][col], \"no pass3\")\n",
    "            return False\n",
    "        if(puzzle[cell[0]][row][col]==\"#\" or str(puzzle[cell[0]][row][col]).isupper() or type(puzzle[cell[0]][row][col])==int):\n",
    "            break\n",
    "    #print(\"ccccccccccccccccccccccc\")\n",
    "    col=cell[2]\n",
    "    while col>0:\n",
    "        col=col-1\n",
    "        #print(cell,puzzle[cell[0]][row][col])\n",
    "\n",
    "        if(puzzle[cell[0]][row][col]==\"b\"):\n",
    "            print(cell, \"no pass4\")\n",
    "            return False\n",
    "        if(puzzle[cell[0]][row][col]==\"#\"or str(puzzle[cell[0]][row][col]).isupper() or type(puzzle[cell[0]][row][col])==int):\n",
    "            break\n",
    "    print(cell,\"cell ok\")\n",
    "    return True\n",
    "        \n",
    "        \n",
    "        \n",
    "\n",
    "def possible_pos(puzzle,empty,lit_pos):\n",
    "    res=[]\n",
    "    if(len(empty[0])==0):\n",
    "        for pos in empty[1]:\n",
    "            if(check(puzzle,[1,pos[0],pos[1]])):\n",
    "                print(\"ok\",[1,pos[0],pos[1]])\n",
    "                res.append([1,pos[0],pos[1]])\n",
    "    elif(len(empty[0])!=0 and len(empty[1])!=0):\n",
    "        for index in range(len(empty)):\n",
    "            for pos in empty[index]:\n",
    "                if(check(puzzle,[index,pos[0],pos[1]])):\n",
    "                    res.append([index,pos[0],pos[1]])\n",
    "    elif(len(empty[1])==0):\n",
    "        for pos in empty:\n",
    "            if(check(puzzle,[0,pos[0],pos[1]])):\n",
    "                res.append([0,pos[0],pos[1]])\n",
    "    if(len(lit_pos[0])==0):\n",
    "        for pos in lit_pos[1]:\n",
    "            if(check(puzzle,[1,pos[0],pos[1]])):\n",
    "                res.append([1,pos[0],pos[1]])\n",
    "    elif(len(lit_pos[0])!=0 and len(lit_pos[1])!=0):\n",
    "        for index in range(len(lit_pos)):\n",
    "            for pos in lit_pos[index]:\n",
    "                if(check(puzzle,[index,pos[0],pos[1]])):\n",
    "                    print([index,pos[0],pos[1]], \"pass\")\n",
    "                    res.append([index,pos[0],pos[1]])\n",
    "    elif(len(lit_pos[1])==0):\n",
    "        for pos in lit_pos[0]:\n",
    "            if(check(puzzle,[0,pos[0],pos[1]])):\n",
    "                res.append([0,pos[0],pos[1]])\n",
    "    return res\n",
    "                    \n",
    "display(puzzle)\n",
    "                \n",
    "        \n",
    "    "
   ]
  },
  {
   "cell_type": "code",
   "execution_count": 1210,
   "metadata": {},
   "outputs": [
    {
     "name": "stdout",
     "output_type": "stream",
     "text": [
      "[0, 2, 1] cell ok\n",
      "[0, 3, 3] cell ok\n",
      "[0, 3, 5] cell ok\n",
      "[0, 4, 3] cell ok\n",
      "[0, 4, 5] cell ok\n",
      "[0, 5, 5] cell ok\n",
      "[1, 0, 0] cell ok\n",
      "[1, 1, 0] cell ok\n",
      "[1, 1, 1] cell ok\n",
      "[1, 2, 0] cell ok\n",
      "[1, 2, 1] cell ok\n",
      "[1, 2, 2] cell ok\n",
      "[1, 2, 5] cell ok\n",
      "[1, 3, 0] cell ok\n",
      "[1, 3, 1] cell ok\n",
      "[1, 3, 4] cell ok\n",
      "[1, 4, 0] cell ok\n",
      "[1, 4, 5] cell ok\n",
      "[1, 5, 0] cell ok\n",
      "[1, 5, 1] cell ok\n",
      "[1, 5, 3] cell ok\n",
      "[1, 5, 5] cell ok\n",
      "b [0, 0, 0] no pass2\n",
      "[0, 0, 1] b no pass3\n",
      "[0, 0, 3] b no pass3\n",
      "b [0, 0, 5] no pass2\n",
      "b [0, 1, 0] no pass2\n",
      "b [0, 2, 0] no pass2\n",
      "b [0, 3, 0] no pass2\n",
      "[0, 5, 0] no pass1\n",
      "[0, 5, 2] no pass4\n",
      "[0, 5, 3] no pass4\n",
      "[1, 0, 5] no pass4\n",
      "[1, 2, 3] no pass1\n",
      "[1, 3, 3] no pass1\n",
      "[1, 5, 4] cell ok\n",
      "[1, 5, 4] pass\n"
     ]
    }
   ],
   "source": [
    "possible_list=possible_pos(puzzle,empty,lit_pos)"
   ]
  },
  {
   "cell_type": "code",
   "execution_count": 1211,
   "metadata": {},
   "outputs": [
    {
     "name": "stdout",
     "output_type": "stream",
     "text": [
      "^|^|!|^|b|^|      _|1|b|3|b|^|\n",
      "^|!|0|!|2|b|      _|_|#|b|2|B|\n",
      "^|_|!|!|0|A|      _|_|_|^|1|_|\n",
      "^|1|#|_|1|_|      _|_|!|^|_|2|\n",
      "b|2|B|_|1|_|      _|2|0|#|A|_|\n",
      "^|b|^|^|#|_|      _|_|!|_|^|_|\n"
     ]
    }
   ],
   "source": [
    "display(puzzle)"
   ]
  },
  {
   "cell_type": "code",
   "execution_count": 1212,
   "metadata": {},
   "outputs": [
    {
     "name": "stdout",
     "output_type": "stream",
     "text": [
      "sure add bubls\n",
      "sure add bubls\n",
      "sure add bubls\n",
      "sure add bubls\n",
      "sure add bubls\n",
      "sure add bubls\n",
      "sure add bubls\n",
      "sure add bubls\n"
     ]
    }
   ],
   "source": [
    "new_bulbs=place_bulbs(walls_loc,puzzle)\n"
   ]
  },
  {
   "cell_type": "code",
   "execution_count": 1213,
   "metadata": {},
   "outputs": [],
   "source": [
    "new_empty=find_empty(puzzle)"
   ]
  },
  {
   "cell_type": "code",
   "execution_count": 1214,
   "metadata": {},
   "outputs": [],
   "source": [
    "def light_up2(wormhole_added_grids: list, bulb_loc: list, empty_and_not_lit_loc: list):\n",
    "    '''\n",
    "    update record after adding a bulb on bulb_loc\n",
    "    parameters:\n",
    "        wormhole_added_grids: grids already add wormholes\n",
    "        bulb_loc: the location that you want to put a bulb \n",
    "            eg:[x,y,z] - xth gird, yth row, zth column\n",
    "        empty_and_not_lit_loc: location of empty and not lit cells\n",
    "    return:\n",
    "        wormhole_added_grids: grids after adding a bulb on bulb_loc\n",
    "        empty_and_not_lit_loc: location of empty and not lit cells\n",
    "    '''\n",
    "    wormhole_added_grids[bulb_loc[0]][bulb_loc[1]][bulb_loc[2]] = 'b'\n",
    "    # light up\n",
    "    \n",
    "    ## up\n",
    "    cur_loc = copy.deepcopy(bulb_loc)\n",
    "    cur_loc[1] -= 1\n",
    "    while cur_loc[1]>=0:\n",
    "        # case1: current cell is empty and not lit by other bulbs -> light up it\n",
    "        if wormhole_added_grids[cur_loc[0]][cur_loc[1]][cur_loc[2]] == '_':\n",
    "            wormhole_added_grids[cur_loc[0]][cur_loc[1]][cur_loc[2]] ='^'\n",
    "            empty_and_not_lit_loc[cur_loc[0]].remove((cur_loc[1],cur_loc[2]))\n",
    "            \n",
    "        # case2: current cell is a wormhole -> go to another gird's corresponding wormhole\n",
    "        if wormhole_added_grids[cur_loc[0]][cur_loc[1]][cur_loc[2]] in [chr(i) for i in range(65,91)]:\n",
    "            wormhole = wormhole_added_grids[cur_loc[0]][cur_loc[1]][cur_loc[2]] # eg: 'A','B'...\n",
    "            tp_grid_index = 1-cur_loc[0]\n",
    "            tp_i = list(_flatten(wormhole_added_grids[tp_grid_index])).index(wormhole) // len(wormhole_added_grids[tp_grid_index][0])\n",
    "            tp_j = list(_flatten(wormhole_added_grids[tp_grid_index])).index(wormhole) % len(wormhole_added_grids[tp_grid_index][0])\n",
    "            cur_loc = [tp_grid_index, tp_i, tp_j]\n",
    "        # case3: current cell is a wall -> stop here\n",
    "        if wormhole_added_grids[cur_loc[0]][cur_loc[1]][cur_loc[2]] == '#' or type(wormhole_added_grids[cur_loc[0]][cur_loc[1]][cur_loc[2]])==int:\n",
    "            break\n",
    "        # case4: jump in a loop of wormhole\n",
    "        if cur_loc == bulb_loc:\n",
    "            break\n",
    "            \n",
    "        cur_loc[1] -= 1\n",
    "        \n",
    "    ## down\n",
    "    cur_loc = copy.deepcopy(bulb_loc)\n",
    "    cur_loc[1] += 1\n",
    "    while cur_loc[1]<len(wormhole_added_grids[cur_loc[0]]):\n",
    "        # case1: current cell is empty and not lit by other bulbs -> light up it\n",
    "        if wormhole_added_grids[cur_loc[0]][cur_loc[1]][cur_loc[2]] == '_':\n",
    "            wormhole_added_grids[cur_loc[0]][cur_loc[1]][cur_loc[2]] ='^'\n",
    "            empty_and_not_lit_loc[cur_loc[0]].remove((cur_loc[1],cur_loc[2]))\n",
    "            \n",
    "        # case2: current cell is a wormhole -> go to another gird's corresponding wormhole\n",
    "        if wormhole_added_grids[cur_loc[0]][cur_loc[1]][cur_loc[2]] in [chr(i) for i in range(65,91)]:\n",
    "            wormhole = wormhole_added_grids[cur_loc[0]][cur_loc[1]][cur_loc[2]] # eg: 'A','B'...\n",
    "            tp_grid_index = 1-cur_loc[0]\n",
    "            tp_i = list(_flatten(wormhole_added_grids[tp_grid_index])).index(wormhole) // len(wormhole_added_grids[tp_grid_index][0])\n",
    "            tp_j = list(_flatten(wormhole_added_grids[tp_grid_index])).index(wormhole) % len(wormhole_added_grids[tp_grid_index][0])\n",
    "            cur_loc = [tp_grid_index, tp_i, tp_j]\n",
    "        # case3: current cell is a wall -> stop here\n",
    "        if wormhole_added_grids[cur_loc[0]][cur_loc[1]][cur_loc[2]] == '#' or type(wormhole_added_grids[cur_loc[0]][cur_loc[1]][cur_loc[2]])==int:\n",
    "            break    \n",
    "        # case4: jump in a loop of wormhole\n",
    "        if cur_loc == bulb_loc:\n",
    "            break\n",
    "            \n",
    "        cur_loc[1] += 1\n",
    "        \n",
    "    ## left\n",
    "    cur_loc = copy.deepcopy(bulb_loc)\n",
    "    cur_loc[2] -= 1\n",
    "    while cur_loc[2]>=0:\n",
    "        # case1: current cell is empty and not lit by other bulbs -> light up it\n",
    "        if wormhole_added_grids[cur_loc[0]][cur_loc[1]][cur_loc[2]] == '_':\n",
    "            wormhole_added_grids[cur_loc[0]][cur_loc[1]][cur_loc[2]] ='^'\n",
    "            empty_and_not_lit_loc[cur_loc[0]].remove((cur_loc[1],cur_loc[2]))\n",
    "            \n",
    "        # case2: current cell is a wormhole -> go to another gird's corresponding wormhole\n",
    "        if wormhole_added_grids[cur_loc[0]][cur_loc[1]][cur_loc[2]] in [chr(i) for i in range(65,91)]:\n",
    "            wormhole = wormhole_added_grids[cur_loc[0]][cur_loc[1]][cur_loc[2]] # eg: 'A','B'...\n",
    "            tp_grid_index = 1-cur_loc[0]\n",
    "            tp_i = list(_flatten(wormhole_added_grids[tp_grid_index])).index(wormhole) // len(wormhole_added_grids[tp_grid_index][0])\n",
    "            tp_j = list(_flatten(wormhole_added_grids[tp_grid_index])).index(wormhole) % len(wormhole_added_grids[tp_grid_index][0])\n",
    "            cur_loc = [tp_grid_index, tp_i, tp_j]\n",
    "        # case3: current cell is a wall -> stop here\n",
    "        if wormhole_added_grids[cur_loc[0]][cur_loc[1]][cur_loc[2]] == '#'or type(wormhole_added_grids[cur_loc[0]][cur_loc[1]][cur_loc[2]])==int:\n",
    "            break\n",
    "        # case4: jump in a loop of wormhole\n",
    "        if cur_loc == bulb_loc:\n",
    "            break\n",
    "            \n",
    "        cur_loc[2] -= 1\n",
    "        \n",
    "    ## right\n",
    "    cur_loc = copy.deepcopy(bulb_loc)\n",
    "    cur_loc[2] += 1\n",
    "    while cur_loc[2]<len(wormhole_added_grids[cur_loc[0]][0]):\n",
    "        # case1: current cell is empty and not lit by other bulbs -> light up it\n",
    "        if wormhole_added_grids[cur_loc[0]][cur_loc[1]][cur_loc[2]] == '_':\n",
    "            wormhole_added_grids[cur_loc[0]][cur_loc[1]][cur_loc[2]] ='^'\n",
    "            empty_and_not_lit_loc[cur_loc[0]].remove((cur_loc[1],cur_loc[2]))\n",
    "            \n",
    "        # case2: current cell is a wormhole -> go to another gird's corresponding wormhole\n",
    "        if wormhole_added_grids[cur_loc[0]][cur_loc[1]][cur_loc[2]] in [chr(i) for i in range(65,91)]:\n",
    "            wormhole = wormhole_added_grids[cur_loc[0]][cur_loc[1]][cur_loc[2]] # eg: 'A','B'...\n",
    "            tp_grid_index = 1-cur_loc[0]\n",
    "            tp_i = list(_flatten(wormhole_added_grids[tp_grid_index])).index(wormhole) // len(wormhole_added_grids[tp_grid_index][0])\n",
    "            tp_j = list(_flatten(wormhole_added_grids[tp_grid_index])).index(wormhole) % len(wormhole_added_grids[tp_grid_index][0])\n",
    "            cur_loc = [tp_grid_index, tp_i, tp_j]\n",
    "        # case3: current cell is a wall -> stop here\n",
    "        if wormhole_added_grids[cur_loc[0]][cur_loc[1]][cur_loc[2]] == '#' or type(wormhole_added_grids[cur_loc[0]][cur_loc[1]][cur_loc[2]])==int:\n",
    "        # case4: jump in a loop of wormhole\n",
    "            break\n",
    "        if cur_loc == bulb_loc:\n",
    "            break\n",
    "            \n",
    "        cur_loc[2] += 1\n",
    "        \n",
    "    return wormhole_added_grids, empty_and_not_lit_loc"
   ]
  },
  {
   "cell_type": "code",
   "execution_count": 1215,
   "metadata": {},
   "outputs": [
    {
     "name": "stdout",
     "output_type": "stream",
     "text": [
      "[0, 2, 1] cell ok\n"
     ]
    }
   ],
   "source": [
    "for bulb in new_bulbs:\n",
    "    if check(puzzle,bulb):\n",
    "        light_up2(puzzle, bulb, new_empty)\n"
   ]
  },
  {
   "cell_type": "code",
   "execution_count": 1216,
   "metadata": {},
   "outputs": [
    {
     "name": "stdout",
     "output_type": "stream",
     "text": [
      "no bubls around\n",
      "no bubls around\n",
      "no bubls around\n",
      "no bubls around\n",
      "no bubls around\n",
      "no bubls around\n",
      "no bubls around\n",
      "no bubls around\n",
      "no bubls around\n"
     ]
    }
   ],
   "source": [
    "no_bulbs(walls_loc,puzzle)"
   ]
  },
  {
   "cell_type": "code",
   "execution_count": 1217,
   "metadata": {},
   "outputs": [
    {
     "name": "stdout",
     "output_type": "stream",
     "text": [
      "^|^|!|^|b|^|      !|1|b|3|b|^|\n",
      "^|!|0|!|2|b|      _|!|#|b|2|B|\n",
      "^|b|!|!|0|A|      _|_|_|^|1|_|\n",
      "^|1|#|_|1|_|      _|_|!|^|_|2|\n",
      "b|2|B|_|1|_|      _|2|0|#|A|_|\n",
      "^|b|^|^|#|_|      _|_|!|_|^|_|\n"
     ]
    }
   ],
   "source": [
    "display(puzzle)"
   ]
  },
  {
   "cell_type": "code",
   "execution_count": 1218,
   "metadata": {},
   "outputs": [],
   "source": [
    "def display(puzzle):\n",
    "    for (left,right) in zip(puzzle[0], puzzle[1]):\n",
    "        for i in left:         \n",
    "            print(i,end=\"|\")\n",
    "        print(\"     \",end=\" \")\n",
    "        for i in right:\n",
    "            print(i,end=\"|\")\n",
    "        print(\"\")  "
   ]
  },
  {
   "cell_type": "code",
   "execution_count": 1219,
   "metadata": {},
   "outputs": [],
   "source": [
    "def finish_lightup(empty):\n",
    "    if len(empty[0])==0 and len(empty[1])==0:\n",
    "        return True\n",
    "    return False\n",
    "    "
   ]
  },
  {
   "cell_type": "code",
   "execution_count": 1220,
   "metadata": {},
   "outputs": [
    {
     "name": "stdout",
     "output_type": "stream",
     "text": [
      "[0, 3, 3] cell ok\n",
      "[0, 3, 5] cell ok\n",
      "[0, 4, 3] cell ok\n",
      "[0, 4, 5] cell ok\n",
      "[0, 5, 5] cell ok\n",
      "[1, 1, 0] cell ok\n",
      "[1, 2, 0] cell ok\n",
      "[1, 2, 1] cell ok\n",
      "[1, 2, 2] cell ok\n",
      "[1, 2, 5] cell ok\n",
      "[1, 3, 0] cell ok\n",
      "[1, 3, 1] cell ok\n",
      "[1, 3, 4] cell ok\n",
      "[1, 4, 0] cell ok\n",
      "[1, 4, 5] cell ok\n",
      "[1, 5, 0] cell ok\n",
      "[1, 5, 1] cell ok\n",
      "[1, 5, 3] cell ok\n",
      "[1, 5, 5] cell ok\n",
      "b [0, 0, 0] no pass2\n",
      "b [0, 0, 1] no pass2\n",
      "[0, 0, 3] b no pass3\n",
      "b [0, 0, 5] no pass2\n",
      "b [0, 1, 0] no pass2\n",
      "b [0, 2, 0] no pass2\n",
      "b [0, 3, 0] no pass2\n",
      "[0, 5, 0] no pass1\n",
      "[0, 5, 2] no pass4\n",
      "[0, 5, 3] no pass4\n",
      "[1, 0, 5] no pass4\n",
      "[1, 2, 3] no pass1\n",
      "[1, 3, 3] no pass1\n",
      "[1, 5, 4] cell ok\n",
      "[1, 5, 4] pass\n"
     ]
    }
   ],
   "source": [
    "empty2=find_empty(puzzle)\n",
    "lit_pos2=lit_position(puzzle)\n",
    "possible_list2=possible_pos(puzzle,empty2,lit_pos2)"
   ]
  },
  {
   "cell_type": "code",
   "execution_count": 1221,
   "metadata": {},
   "outputs": [
    {
     "data": {
      "text/plain": [
       "[[0, 3, 3],\n",
       " [0, 3, 5],\n",
       " [0, 4, 3],\n",
       " [0, 4, 5],\n",
       " [0, 5, 5],\n",
       " [1, 1, 0],\n",
       " [1, 2, 0],\n",
       " [1, 2, 1],\n",
       " [1, 2, 2],\n",
       " [1, 2, 5],\n",
       " [1, 3, 0],\n",
       " [1, 3, 1],\n",
       " [1, 3, 4],\n",
       " [1, 4, 0],\n",
       " [1, 4, 5],\n",
       " [1, 5, 0],\n",
       " [1, 5, 1],\n",
       " [1, 5, 3],\n",
       " [1, 5, 5],\n",
       " [1, 5, 4]]"
      ]
     },
     "execution_count": 1221,
     "metadata": {},
     "output_type": "execute_result"
    }
   ],
   "source": [
    "possible_list2"
   ]
  },
  {
   "cell_type": "code",
   "execution_count": 1222,
   "metadata": {},
   "outputs": [
    {
     "name": "stdout",
     "output_type": "stream",
     "text": [
      "^|^|!|^|b|^|      !|1|b|3|b|^|\n",
      "^|!|0|!|2|b|      _|!|#|b|2|B|\n",
      "^|b|!|!|0|A|      _|_|_|^|1|_|\n",
      "^|1|#|_|1|_|      _|_|!|^|_|2|\n",
      "b|2|B|_|1|_|      _|2|0|#|A|_|\n",
      "^|b|^|^|#|_|      _|_|!|_|^|_|\n"
     ]
    }
   ],
   "source": [
    "display(puzzle)"
   ]
  },
  {
   "cell_type": "code",
   "execution_count": 1223,
   "metadata": {},
   "outputs": [],
   "source": [
    "class SolutionNumberExceed(Exception):\n",
    "    \"this is user's Exception for check the number of solutions \"\n"
   ]
  },
  {
   "cell_type": "code",
   "execution_count": 1224,
   "metadata": {},
   "outputs": [],
   "source": [
    "def solve(puzzle,empty,lit_pos,count):\n",
    "    print(\"----------------------\")\n",
    "    if(finish_lightup(empty)==True):\n",
    "        print(\"found one solution\")\n",
    "        count[0]+=1\n",
    "        if (count[0] <= 2):\n",
    "            display(puzzle)\n",
    "            if (count[0] == 2):\n",
    "                raise SolutionNumberExceed\n",
    "    else:\n",
    "        display(puzzle)\n",
    "        possible_list=possible_pos(puzzle,empty,lit_pos) \n",
    "        old_puzzle=copy.deepcopy(puzzle)\n",
    "        print(possible_list)\n",
    "        print(\"poslist\",len(possible_list))\n",
    "        #display(puzzle)\n",
    "        if(len(possible_list)==0):\n",
    "            print(\"no more cell can place light\")   \n",
    "        print(possible_list[0])\n",
    "        light_up2(puzzle, possible_list[0], empty)\n",
    "        empty2=find_empty(puzzle)\n",
    "        print(\"empty\",empty2)\n",
    "        lit_pos2=lit_position(puzzle)\n",
    "        print(\"lit_pos2\",lit_pos2)\n",
    "        solve(puzzle,empty2,lit_pos2,count)\n",
    "        puzzle=old_puzzle\n",
    "\n",
    "            \n",
    "  "
   ]
  },
  {
   "cell_type": "code",
   "execution_count": 1225,
   "metadata": {},
   "outputs": [
    {
     "name": "stdout",
     "output_type": "stream",
     "text": [
      "----------------------\n",
      "^|^|!|^|b|^|      !|1|b|3|b|^|\n",
      "^|!|0|!|2|b|      _|!|#|b|2|B|\n",
      "^|b|!|!|0|A|      _|_|_|^|1|_|\n",
      "^|1|#|_|1|_|      _|_|!|^|_|2|\n",
      "b|2|B|_|1|_|      _|2|0|#|A|_|\n",
      "^|b|^|^|#|_|      _|_|!|_|^|_|\n",
      "[0, 2, 1] cell ok\n",
      "[0, 3, 3] cell ok\n",
      "[0, 3, 5] cell ok\n",
      "[0, 4, 3] cell ok\n",
      "[0, 4, 5] cell ok\n",
      "[0, 5, 5] cell ok\n",
      "[1, 0, 0] cell ok\n",
      "[1, 1, 0] cell ok\n",
      "[1, 1, 1] cell ok\n",
      "[1, 2, 0] cell ok\n",
      "[1, 2, 1] cell ok\n",
      "[1, 2, 2] cell ok\n",
      "[1, 2, 5] cell ok\n",
      "[1, 3, 0] cell ok\n",
      "[1, 3, 1] cell ok\n",
      "[1, 3, 4] cell ok\n",
      "[1, 4, 0] cell ok\n",
      "[1, 4, 5] cell ok\n",
      "[1, 5, 0] cell ok\n",
      "[1, 5, 1] cell ok\n",
      "[1, 5, 3] cell ok\n",
      "[1, 5, 5] cell ok\n",
      "b [0, 0, 0] no pass2\n",
      "b [0, 0, 1] no pass2\n",
      "[0, 0, 3] b no pass3\n",
      "b [0, 0, 5] no pass2\n",
      "b [0, 1, 0] no pass2\n",
      "b [0, 2, 0] no pass2\n",
      "b [0, 3, 0] no pass2\n",
      "[0, 5, 0] no pass1\n",
      "[0, 5, 2] no pass4\n",
      "[0, 5, 3] no pass4\n",
      "[1, 0, 5] no pass4\n",
      "[1, 2, 3] no pass1\n",
      "[1, 3, 3] no pass1\n",
      "[1, 5, 4] cell ok\n",
      "[1, 5, 4] pass\n",
      "[[0, 2, 1], [0, 3, 3], [0, 3, 5], [0, 4, 3], [0, 4, 5], [0, 5, 5], [1, 0, 0], [1, 1, 0], [1, 1, 1], [1, 2, 0], [1, 2, 1], [1, 2, 2], [1, 2, 5], [1, 3, 0], [1, 3, 1], [1, 3, 4], [1, 4, 0], [1, 4, 5], [1, 5, 0], [1, 5, 1], [1, 5, 3], [1, 5, 5], [1, 5, 4]]\n",
      "poslist 23\n",
      "[0, 2, 1]\n",
      "empty [[(3, 3), (3, 5), (4, 3), (4, 5), (5, 5)], [(1, 0), (2, 0), (2, 1), (2, 2), (2, 5), (3, 0), (3, 1), (3, 4), (4, 0), (4, 5), (5, 0), (5, 1), (5, 3), (5, 5)]]\n",
      "lit_pos2 [[(0, 0), (0, 1), (0, 3), (0, 5), (1, 0), (2, 0), (3, 0), (5, 0), (5, 2), (5, 3)], [(0, 5), (2, 3), (3, 3), (5, 4)]]\n",
      "----------------------\n",
      "^|^|!|^|b|^|      !|1|b|3|b|^|\n",
      "^|!|0|!|2|b|      _|!|#|b|2|B|\n",
      "^|b|!|!|0|A|      _|_|_|^|1|_|\n",
      "^|1|#|_|1|_|      _|_|!|^|_|2|\n",
      "b|2|B|_|1|_|      _|2|0|#|A|_|\n",
      "^|b|^|^|#|_|      _|_|!|_|^|_|\n",
      "[0, 3, 3] cell ok\n",
      "[0, 3, 5] cell ok\n",
      "[0, 4, 3] cell ok\n",
      "[0, 4, 5] cell ok\n",
      "[0, 5, 5] cell ok\n",
      "[1, 1, 0] cell ok\n",
      "[1, 2, 0] cell ok\n",
      "[1, 2, 1] cell ok\n",
      "[1, 2, 2] cell ok\n",
      "[1, 2, 5] cell ok\n",
      "[1, 3, 0] cell ok\n",
      "[1, 3, 1] cell ok\n",
      "[1, 3, 4] cell ok\n",
      "[1, 4, 0] cell ok\n",
      "[1, 4, 5] cell ok\n",
      "[1, 5, 0] cell ok\n",
      "[1, 5, 1] cell ok\n",
      "[1, 5, 3] cell ok\n",
      "[1, 5, 5] cell ok\n",
      "b [0, 0, 0] no pass2\n",
      "b [0, 0, 1] no pass2\n",
      "[0, 0, 3] b no pass3\n",
      "b [0, 0, 5] no pass2\n",
      "b [0, 1, 0] no pass2\n",
      "b [0, 2, 0] no pass2\n",
      "b [0, 3, 0] no pass2\n",
      "[0, 5, 0] no pass1\n",
      "[0, 5, 2] no pass4\n",
      "[0, 5, 3] no pass4\n",
      "[1, 0, 5] no pass4\n",
      "[1, 2, 3] no pass1\n",
      "[1, 3, 3] no pass1\n",
      "[1, 5, 4] cell ok\n",
      "[1, 5, 4] pass\n",
      "[[0, 3, 3], [0, 3, 5], [0, 4, 3], [0, 4, 5], [0, 5, 5], [1, 1, 0], [1, 2, 0], [1, 2, 1], [1, 2, 2], [1, 2, 5], [1, 3, 0], [1, 3, 1], [1, 3, 4], [1, 4, 0], [1, 4, 5], [1, 5, 0], [1, 5, 1], [1, 5, 3], [1, 5, 5], [1, 5, 4]]\n",
      "poslist 20\n",
      "[0, 3, 3]\n",
      "empty [[(3, 5), (4, 5), (5, 5)], [(1, 0), (2, 0), (2, 1), (2, 2), (2, 5), (3, 0), (3, 1), (3, 4), (4, 0), (4, 5), (5, 0), (5, 1), (5, 3), (5, 5)]]\n",
      "lit_pos2 [[(0, 0), (0, 1), (0, 3), (0, 5), (1, 0), (2, 0), (3, 0), (4, 3), (5, 0), (5, 2), (5, 3)], [(0, 5), (2, 3), (3, 3), (5, 4)]]\n",
      "----------------------\n",
      "^|^|!|^|b|^|      !|1|b|3|b|^|\n",
      "^|!|0|!|2|b|      _|!|#|b|2|B|\n",
      "^|b|!|!|0|A|      _|_|_|^|1|_|\n",
      "^|1|#|b|1|_|      _|_|!|^|_|2|\n",
      "b|2|B|^|1|_|      _|2|0|#|A|_|\n",
      "^|b|^|^|#|_|      _|_|!|_|^|_|\n",
      "[0, 3, 5] cell ok\n",
      "[0, 4, 5] cell ok\n",
      "[0, 5, 5] cell ok\n",
      "[1, 1, 0] cell ok\n",
      "[1, 2, 0] cell ok\n",
      "[1, 2, 1] cell ok\n",
      "[1, 2, 2] cell ok\n",
      "[1, 2, 5] cell ok\n",
      "[1, 3, 0] cell ok\n",
      "[1, 3, 1] cell ok\n",
      "[1, 3, 4] cell ok\n",
      "[1, 4, 0] cell ok\n",
      "[1, 4, 5] cell ok\n",
      "[1, 5, 0] cell ok\n",
      "[1, 5, 1] cell ok\n",
      "[1, 5, 3] cell ok\n",
      "[1, 5, 5] cell ok\n",
      "b [0, 0, 0] no pass2\n",
      "b [0, 0, 1] no pass2\n",
      "b [0, 0, 3] no pass2\n",
      "b [0, 0, 5] no pass2\n",
      "b [0, 1, 0] no pass2\n",
      "b [0, 2, 0] no pass2\n",
      "b [0, 3, 0] no pass2\n",
      "[0, 4, 3] no pass1\n",
      "[0, 5, 0] no pass1\n",
      "[0, 5, 2] no pass4\n",
      "[0, 5, 3] no pass1\n",
      "[1, 0, 5] no pass4\n",
      "[1, 2, 3] no pass1\n",
      "[1, 3, 3] no pass1\n",
      "[1, 5, 4] cell ok\n",
      "[1, 5, 4] pass\n",
      "[[0, 3, 5], [0, 4, 5], [0, 5, 5], [1, 1, 0], [1, 2, 0], [1, 2, 1], [1, 2, 2], [1, 2, 5], [1, 3, 0], [1, 3, 1], [1, 3, 4], [1, 4, 0], [1, 4, 5], [1, 5, 0], [1, 5, 1], [1, 5, 3], [1, 5, 5], [1, 5, 4]]\n",
      "poslist 18\n",
      "[0, 3, 5]\n",
      "empty [[], [(1, 0), (2, 0), (2, 1), (2, 2), (2, 5), (3, 0), (3, 1), (4, 0), (4, 5), (5, 0), (5, 1), (5, 3), (5, 5)]]\n",
      "lit_pos2 [[(0, 0), (0, 1), (0, 3), (0, 5), (1, 0), (2, 0), (3, 0), (4, 3), (4, 5), (5, 0), (5, 2), (5, 3), (5, 5)], [(0, 5), (2, 3), (3, 3), (3, 4), (5, 4)]]\n",
      "----------------------\n",
      "^|^|!|^|b|^|      !|1|b|3|b|^|\n",
      "^|!|0|!|2|b|      _|!|#|b|2|B|\n",
      "^|b|!|!|0|A|      _|_|_|^|1|_|\n",
      "^|1|#|b|1|b|      _|_|!|^|^|2|\n",
      "b|2|B|^|1|^|      _|2|0|#|A|_|\n",
      "^|b|^|^|#|^|      _|_|!|_|^|_|\n",
      "[1, 1, 0] cell ok\n",
      "ok [1, 1, 0]\n",
      "[1, 2, 0] cell ok\n",
      "ok [1, 2, 0]\n",
      "[1, 2, 1] cell ok\n",
      "ok [1, 2, 1]\n",
      "[1, 2, 2] cell ok\n",
      "ok [1, 2, 2]\n",
      "[1, 2, 5] cell ok\n",
      "ok [1, 2, 5]\n",
      "[1, 3, 0] cell ok\n",
      "ok [1, 3, 0]\n",
      "[1, 3, 1] cell ok\n",
      "ok [1, 3, 1]\n",
      "[1, 4, 0] cell ok\n",
      "ok [1, 4, 0]\n",
      "[1, 4, 5] cell ok\n",
      "ok [1, 4, 5]\n",
      "[1, 5, 0] cell ok\n",
      "ok [1, 5, 0]\n",
      "[1, 5, 1] cell ok\n",
      "ok [1, 5, 1]\n",
      "[1, 5, 3] cell ok\n",
      "ok [1, 5, 3]\n",
      "[1, 5, 5] cell ok\n",
      "ok [1, 5, 5]\n",
      "b [0, 0, 0] no pass2\n",
      "b [0, 0, 1] no pass2\n",
      "b [0, 0, 3] no pass2\n",
      "b [0, 0, 5] no pass2\n",
      "b [0, 1, 0] no pass2\n",
      "b [0, 2, 0] no pass2\n",
      "b [0, 3, 0] no pass2\n",
      "[0, 4, 3] no pass1\n",
      "[0, 4, 5] no pass1\n",
      "[0, 5, 0] no pass1\n",
      "[0, 5, 2] no pass4\n",
      "[0, 5, 3] no pass1\n",
      "[0, 5, 5] no pass1\n",
      "[1, 0, 5] no pass4\n",
      "[1, 2, 3] no pass1\n",
      "[1, 3, 3] no pass1\n",
      "[1, 3, 4] cell ok\n",
      "[1, 3, 4] pass\n",
      "[1, 5, 4] cell ok\n",
      "[1, 5, 4] pass\n",
      "[[1, 1, 0], [1, 2, 0], [1, 2, 1], [1, 2, 2], [1, 2, 5], [1, 3, 0], [1, 3, 1], [1, 4, 0], [1, 4, 5], [1, 5, 0], [1, 5, 1], [1, 5, 3], [1, 5, 5], [1, 3, 4], [1, 5, 4]]\n",
      "poslist 15\n",
      "[1, 1, 0]\n",
      "empty [[], [(2, 1), (2, 2), (2, 5), (3, 1), (4, 5), (5, 1), (5, 3), (5, 5)]]\n",
      "lit_pos2 [[(0, 0), (0, 1), (0, 3), (0, 5), (1, 0), (2, 0), (3, 0), (4, 3), (4, 5), (5, 0), (5, 2), (5, 3), (5, 5)], [(0, 5), (2, 0), (2, 3), (3, 0), (3, 3), (3, 4), (4, 0), (5, 0), (5, 4)]]\n",
      "----------------------\n",
      "^|^|!|^|b|^|      !|1|b|3|b|^|\n",
      "^|!|0|!|2|b|      b|!|#|b|2|B|\n",
      "^|b|!|!|0|A|      ^|_|_|^|1|_|\n",
      "^|1|#|b|1|b|      ^|_|!|^|^|2|\n",
      "b|2|B|^|1|^|      ^|2|0|#|A|_|\n",
      "^|b|^|^|#|^|      ^|_|!|_|^|_|\n",
      "[1, 2, 1] cell ok\n",
      "ok [1, 2, 1]\n",
      "[1, 2, 2] cell ok\n",
      "ok [1, 2, 2]\n",
      "[1, 2, 5] cell ok\n",
      "ok [1, 2, 5]\n",
      "[1, 3, 1] cell ok\n",
      "ok [1, 3, 1]\n",
      "[1, 4, 5] cell ok\n",
      "ok [1, 4, 5]\n",
      "[1, 5, 1] cell ok\n",
      "ok [1, 5, 1]\n",
      "[1, 5, 3] cell ok\n",
      "ok [1, 5, 3]\n",
      "[1, 5, 5] cell ok\n",
      "ok [1, 5, 5]\n",
      "b [0, 0, 0] no pass2\n",
      "b [0, 0, 1] no pass2\n",
      "b [0, 0, 3] no pass2\n",
      "b [0, 0, 5] no pass2\n",
      "b [0, 1, 0] no pass2\n",
      "b [0, 2, 0] no pass2\n",
      "b [0, 3, 0] no pass2\n",
      "[0, 4, 3] no pass1\n",
      "[0, 4, 5] no pass1\n",
      "[0, 5, 0] no pass1\n",
      "[0, 5, 2] no pass4\n",
      "[0, 5, 3] no pass1\n",
      "[0, 5, 5] no pass1\n",
      "[1, 0, 5] no pass4\n",
      "[1, 2, 0] no pass1\n",
      "[1, 2, 3] no pass1\n",
      "[1, 3, 0] no pass1\n",
      "[1, 3, 3] no pass1\n",
      "[1, 3, 4] cell ok\n",
      "[1, 3, 4] pass\n",
      "[1, 4, 0] no pass1\n",
      "[1, 5, 0] no pass1\n",
      "[1, 5, 4] cell ok\n",
      "[1, 5, 4] pass\n",
      "[[1, 2, 1], [1, 2, 2], [1, 2, 5], [1, 3, 1], [1, 4, 5], [1, 5, 1], [1, 5, 3], [1, 5, 5], [1, 3, 4], [1, 5, 4]]\n",
      "poslist 10\n",
      "[1, 2, 1]\n",
      "empty [[], [(2, 5), (4, 5), (5, 1), (5, 3), (5, 5)]]\n",
      "lit_pos2 [[(0, 0), (0, 1), (0, 3), (0, 5), (1, 0), (2, 0), (3, 0), (4, 3), (4, 5), (5, 0), (5, 2), (5, 3), (5, 5)], [(0, 5), (2, 0), (2, 2), (2, 3), (3, 0), (3, 1), (3, 3), (3, 4), (4, 0), (5, 0), (5, 4)]]\n",
      "----------------------\n",
      "^|^|!|^|b|^|      !|1|b|3|b|^|\n",
      "^|!|0|!|2|b|      b|!|#|b|2|B|\n",
      "^|b|!|!|0|A|      ^|b|^|^|1|_|\n",
      "^|1|#|b|1|b|      ^|^|!|^|^|2|\n",
      "b|2|B|^|1|^|      ^|2|0|#|A|_|\n",
      "^|b|^|^|#|^|      ^|_|!|_|^|_|\n",
      "[1, 2, 5] cell ok\n",
      "ok [1, 2, 5]\n",
      "[1, 4, 5] cell ok\n",
      "ok [1, 4, 5]\n",
      "[1, 5, 1] cell ok\n",
      "ok [1, 5, 1]\n",
      "[1, 5, 3] cell ok\n",
      "ok [1, 5, 3]\n",
      "[1, 5, 5] cell ok\n",
      "ok [1, 5, 5]\n",
      "b [0, 0, 0] no pass2\n",
      "b [0, 0, 1] no pass2\n",
      "b [0, 0, 3] no pass2\n",
      "b [0, 0, 5] no pass2\n",
      "b [0, 1, 0] no pass2\n",
      "b [0, 2, 0] no pass2\n",
      "b [0, 3, 0] no pass2\n",
      "[0, 4, 3] no pass1\n",
      "[0, 4, 5] no pass1\n",
      "[0, 5, 0] no pass1\n",
      "[0, 5, 2] no pass4\n",
      "[0, 5, 3] no pass1\n",
      "[0, 5, 5] no pass1\n",
      "[1, 0, 5] no pass4\n",
      "[1, 2, 0] no pass1\n",
      "[1, 2, 2] no pass4\n",
      "[1, 2, 3] no pass1\n",
      "[1, 3, 0] no pass1\n",
      "[1, 3, 1] no pass1\n",
      "[1, 3, 3] no pass1\n",
      "[1, 3, 4] cell ok\n",
      "[1, 3, 4] pass\n",
      "[1, 4, 0] no pass1\n",
      "[1, 5, 0] no pass1\n",
      "[1, 5, 4] cell ok\n",
      "[1, 5, 4] pass\n",
      "[[1, 2, 5], [1, 4, 5], [1, 5, 1], [1, 5, 3], [1, 5, 5], [1, 3, 4], [1, 5, 4]]\n",
      "poslist 7\n",
      "[1, 2, 5]\n",
      "empty [[], [(4, 5), (5, 1), (5, 3), (5, 5)]]\n",
      "lit_pos2 [[(0, 0), (0, 1), (0, 3), (0, 5), (1, 0), (2, 0), (3, 0), (4, 3), (4, 5), (5, 0), (5, 2), (5, 3), (5, 5)], [(0, 5), (2, 0), (2, 2), (2, 3), (3, 0), (3, 1), (3, 3), (3, 4), (4, 0), (5, 0), (5, 4)]]\n",
      "----------------------\n",
      "^|^|!|^|b|^|      !|1|b|3|b|^|\n",
      "^|!|0|!|2|b|      b|!|#|b|2|B|\n",
      "^|b|!|!|0|A|      ^|b|^|^|1|b|\n",
      "^|1|#|b|1|b|      ^|^|!|^|^|2|\n",
      "b|2|B|^|1|^|      ^|2|0|#|A|_|\n",
      "^|b|^|^|#|^|      ^|_|!|_|^|_|\n",
      "[1, 4, 5] cell ok\n",
      "ok [1, 4, 5]\n",
      "[1, 5, 1] cell ok\n",
      "ok [1, 5, 1]\n",
      "[1, 5, 3] cell ok\n",
      "ok [1, 5, 3]\n",
      "[1, 5, 5] cell ok\n",
      "ok [1, 5, 5]\n",
      "b [0, 0, 0] no pass2\n",
      "b [0, 0, 1] no pass2\n",
      "b [0, 0, 3] no pass2\n",
      "b [0, 0, 5] no pass2\n",
      "b [0, 1, 0] no pass2\n",
      "b [0, 2, 0] no pass2\n",
      "b [0, 3, 0] no pass2\n",
      "[0, 4, 3] no pass1\n",
      "[0, 4, 5] no pass1\n",
      "[0, 5, 0] no pass1\n",
      "[0, 5, 2] no pass4\n",
      "[0, 5, 3] no pass1\n",
      "[0, 5, 5] no pass1\n",
      "[1, 0, 5] no pass4\n",
      "[1, 2, 0] no pass1\n",
      "[1, 2, 2] no pass4\n",
      "[1, 2, 3] no pass1\n",
      "[1, 3, 0] no pass1\n",
      "[1, 3, 1] no pass1\n",
      "[1, 3, 3] no pass1\n",
      "[1, 3, 4] cell ok\n",
      "[1, 3, 4] pass\n",
      "[1, 4, 0] no pass1\n",
      "[1, 5, 0] no pass1\n",
      "[1, 5, 4] cell ok\n",
      "[1, 5, 4] pass\n",
      "[[1, 4, 5], [1, 5, 1], [1, 5, 3], [1, 5, 5], [1, 3, 4], [1, 5, 4]]\n",
      "poslist 6\n",
      "[1, 4, 5]\n",
      "empty [[], [(5, 1), (5, 3)]]\n",
      "lit_pos2 [[(0, 0), (0, 1), (0, 3), (0, 5), (1, 0), (2, 0), (3, 0), (4, 3), (4, 5), (5, 0), (5, 2), (5, 3), (5, 5)], [(0, 5), (2, 0), (2, 2), (2, 3), (3, 0), (3, 1), (3, 3), (3, 4), (4, 0), (5, 0), (5, 4), (5, 5)]]\n",
      "----------------------\n",
      "^|^|!|^|b|^|      !|1|b|3|b|^|\n",
      "^|!|0|!|2|b|      b|!|#|b|2|B|\n",
      "^|b|!|!|0|A|      ^|b|^|^|1|b|\n",
      "^|1|#|b|1|b|      ^|^|!|^|^|2|\n",
      "b|2|B|^|1|^|      ^|2|0|#|A|b|\n",
      "^|b|^|^|#|^|      ^|_|!|_|^|^|\n",
      "[1, 5, 1] cell ok\n",
      "ok [1, 5, 1]\n",
      "[1, 5, 3] cell ok\n",
      "ok [1, 5, 3]\n",
      "b [0, 0, 0] no pass2\n",
      "b [0, 0, 1] no pass2\n",
      "b [0, 0, 3] no pass2\n",
      "b [0, 0, 5] no pass2\n",
      "b [0, 1, 0] no pass2\n",
      "b [0, 2, 0] no pass2\n",
      "b [0, 3, 0] no pass2\n",
      "[0, 4, 3] no pass1\n",
      "[0, 4, 5] no pass1\n",
      "[0, 5, 0] no pass1\n",
      "[0, 5, 2] no pass4\n",
      "[0, 5, 3] no pass1\n",
      "[0, 5, 5] no pass1\n",
      "[1, 0, 5] no pass4\n",
      "[1, 2, 0] no pass1\n",
      "[1, 2, 2] no pass4\n",
      "[1, 2, 3] no pass1\n",
      "[1, 3, 0] no pass1\n",
      "[1, 3, 1] no pass1\n",
      "[1, 3, 3] no pass1\n",
      "[1, 3, 4] cell ok\n",
      "[1, 3, 4] pass\n",
      "[1, 4, 0] no pass1\n",
      "[1, 5, 0] no pass1\n",
      "[1, 5, 4] cell ok\n",
      "[1, 5, 4] pass\n",
      "[1, 5, 5] no pass1\n",
      "[[1, 5, 1], [1, 5, 3], [1, 3, 4], [1, 5, 4]]\n",
      "poslist 4\n",
      "[1, 5, 1]\n",
      "empty [[], []]\n",
      "lit_pos2 [[(0, 0), (0, 1), (0, 3), (0, 5), (1, 0), (2, 0), (3, 0), (4, 3), (4, 5), (5, 0), (5, 2), (5, 3), (5, 5)], [(0, 5), (2, 0), (2, 2), (2, 3), (3, 0), (3, 1), (3, 3), (3, 4), (4, 0), (5, 0), (5, 3), (5, 4), (5, 5)]]\n",
      "----------------------\n",
      "found one solution\n",
      "^|^|!|^|b|^|      !|1|b|3|b|^|\n",
      "^|!|0|!|2|b|      b|!|#|b|2|B|\n",
      "^|b|!|!|0|A|      ^|b|^|^|1|b|\n",
      "^|1|#|b|1|b|      ^|^|!|^|^|2|\n",
      "b|2|B|^|1|^|      ^|2|0|#|A|b|\n",
      "^|b|^|^|#|^|      ^|b|!|^|^|^|\n"
     ]
    }
   ],
   "source": [
    "solve(puzzle,empty,lit_pos,[0])"
   ]
  },
  {
   "cell_type": "code",
   "execution_count": 1226,
   "metadata": {},
   "outputs": [
    {
     "name": "stdout",
     "output_type": "stream",
     "text": [
      "^|^|!|^|b|^|      !|1|b|3|b|^|\n",
      "^|!|0|!|2|b|      b|!|#|b|2|B|\n",
      "^|b|!|!|0|A|      ^|b|^|^|1|b|\n",
      "^|1|#|b|1|b|      ^|^|!|^|^|2|\n",
      "b|2|B|^|1|^|      ^|2|0|#|A|b|\n",
      "^|b|^|^|#|^|      ^|b|!|^|^|^|\n"
     ]
    }
   ],
   "source": [
    "display(puzzle)"
   ]
  },
  {
   "cell_type": "code",
   "execution_count": 1229,
   "metadata": {},
   "outputs": [],
   "source": [
    "#unfinished "
   ]
  },
  {
   "cell_type": "code",
   "execution_count": null,
   "metadata": {},
   "outputs": [],
   "source": []
  }
 ],
 "metadata": {
  "kernelspec": {
   "display_name": "Python 3",
   "language": "python",
   "name": "python3"
  },
  "language_info": {
   "codemirror_mode": {
    "name": "ipython",
    "version": 3
   },
   "file_extension": ".py",
   "mimetype": "text/x-python",
   "name": "python",
   "nbconvert_exporter": "python",
   "pygments_lexer": "ipython3",
   "version": "3.7.4"
  }
 },
 "nbformat": 4,
 "nbformat_minor": 2
}
