{
 "cells": [
  {
   "cell_type": "code",
   "execution_count": 65,
   "metadata": {},
   "outputs": [
    {
     "data": {
      "text/plain": [
       "\"\\nUnify Encoding:\\n\\n'*': light bulb  \\n'#': wall(black square) without number  \\n'0-4': wall(black square) with number  \\n'A-Z': wormhole (same character on different grid means same pair of wormholes)\\n'_': empty cell(no wall/light bulb/wormhole)\\n'!': can not put light bulb\\n'^': empty but lit by other bulbs\\n\""
      ]
     },
     "execution_count": 65,
     "metadata": {},
     "output_type": "execute_result"
    }
   ],
   "source": [
    "'''\n",
    "Unify Encoding:\n",
    "\n",
    "'*': light bulb  \n",
    "'#': wall(black square) without number  \n",
    "'0-4': wall(black square) with number  \n",
    "'A-Z': wormhole (same character on different grid means same pair of wormholes)\n",
    "'_': empty cell(no wall/light bulb/wormhole)\n",
    "'!': can not put light bulb\n",
    "'^': empty but lit by other bulbs\n",
    "'''"
   ]
  },
  {
   "cell_type": "code",
   "execution_count": 66,
   "metadata": {},
   "outputs": [],
   "source": [
    "import copy\n",
    "import random\n",
    "import time \n",
    "from tkinter import _flatten"
   ]
  },
  {
   "cell_type": "markdown",
   "metadata": {},
   "source": [
    "# Creating Puzzle"
   ]
  },
  {
   "cell_type": "markdown",
   "metadata": {},
   "source": [
    "## Step1: Initialization"
   ]
  },
  {
   "cell_type": "code",
   "execution_count": 67,
   "metadata": {},
   "outputs": [],
   "source": [
    "def init_grids(size:tuple):\n",
    "    '''\n",
    "    Initialize grids based on given size.\n",
    "    parameter:\n",
    "        size: size of the grids(eg:(4,4) both grids are 4 by 4 grid)\n",
    "    return: \n",
    "        grids: [grid0, grid1]\n",
    "        empty_loc: emptu locations(all)\n",
    "    '''\n",
    "    grid0 = []\n",
    "    tp_empty_loc0 = []\n",
    "    \n",
    "    for i in range(size[0]):\n",
    "        grid0.append([])\n",
    "        for j in range(size[1]):\n",
    "            grid0[i].append('_')\n",
    "            tp_empty_loc0.append((i,j))\n",
    "            \n",
    "    grid1 = copy.deepcopy(grid0)\n",
    "    tp_empty_loc1 = copy.deepcopy(tp_empty_loc0)\n",
    "    \n",
    "    init_grids = [grid0,grid1]\n",
    "    empty_loc = [tp_empty_loc0, tp_empty_loc1]\n",
    "    \n",
    "    return init_grids, empty_loc"
   ]
  },
  {
   "cell_type": "code",
   "execution_count": 68,
   "metadata": {},
   "outputs": [
    {
     "data": {
      "text/plain": [
       "[[['_', '_', '_', '_'],\n",
       "  ['_', '_', '_', '_'],\n",
       "  ['_', '_', '_', '_'],\n",
       "  ['_', '_', '_', '_']],\n",
       " [['_', '_', '_', '_'],\n",
       "  ['_', '_', '_', '_'],\n",
       "  ['_', '_', '_', '_'],\n",
       "  ['_', '_', '_', '_']]]"
      ]
     },
     "execution_count": 68,
     "metadata": {},
     "output_type": "execute_result"
    }
   ],
   "source": [
    "# test init_grids\n",
    "test_grid,empty_loc = init_grids((4,4))\n",
    "test_grid"
   ]
  },
  {
   "cell_type": "code",
   "execution_count": 69,
   "metadata": {},
   "outputs": [
    {
     "name": "stdout",
     "output_type": "stream",
     "text": [
      "[[(0, 0), (0, 1), (0, 2), (0, 3), (1, 0), (1, 1), (1, 2), (1, 3), (2, 0), (2, 1), (2, 2), (2, 3), (3, 0), (3, 1), (3, 2), (3, 3)], [(0, 0), (0, 1), (0, 2), (0, 3), (1, 0), (1, 1), (1, 2), (1, 3), (2, 0), (2, 1), (2, 2), (2, 3), (3, 0), (3, 1), (3, 2), (3, 3)]]\n"
     ]
    }
   ],
   "source": [
    "print(empty_loc)"
   ]
  },
  {
   "cell_type": "code",
   "execution_count": 70,
   "metadata": {},
   "outputs": [
    {
     "data": {
      "text/plain": [
       "16"
      ]
     },
     "execution_count": 70,
     "metadata": {},
     "output_type": "execute_result"
    }
   ],
   "source": [
    "len(empty_loc[0])"
   ]
  },
  {
   "cell_type": "markdown",
   "metadata": {},
   "source": [
    "## Step2: Add Walls"
   ]
  },
  {
   "cell_type": "code",
   "execution_count": 71,
   "metadata": {},
   "outputs": [],
   "source": [
    "def add_walls(init_grids: list, wall_per: float):\n",
    "    '''\n",
    "    Add walls on init_grid, based on wall_per.\n",
    "    parameter：\n",
    "        init_grid: empty initialized grids\n",
    "        wall_per: percentage of black squares\n",
    "    return:\n",
    "        grids: grids after adding walls\n",
    "        n_walls: number of walls in each grid\n",
    "        walls_loc: walls' location\n",
    "    '''\n",
    "    grids = init_grids\n",
    "    r, c = len(init_grids[0]), len(init_grids[0][0])\n",
    "    n_cells = r*c\n",
    "    n_walls = int(n_cells*wall_per)\n",
    "    walls_loc = []\n",
    "    for i in range(2):\n",
    "        tp = random.sample(range(n_cells), n_walls)\n",
    "        walls_loc.append([])\n",
    "        for j in tp:\n",
    "            tp_i = j//c\n",
    "            tp_j = j%c\n",
    "            grids[i][tp_i][tp_j] = '#'\n",
    "            walls_loc[i].append((tp_i,tp_j))\n",
    "    return grids,n_walls,walls_loc"
   ]
  },
  {
   "cell_type": "code",
   "execution_count": 72,
   "metadata": {},
   "outputs": [
    {
     "data": {
      "text/plain": [
       "[[['_', '#', '_', '_'],\n",
       "  ['_', '_', '#', '_'],\n",
       "  ['_', '_', '_', '_'],\n",
       "  ['_', '#', '#', '_']],\n",
       " [['_', '_', '#', '_'],\n",
       "  ['_', '_', '_', '_'],\n",
       "  ['_', '_', '_', '#'],\n",
       "  ['_', '_', '#', '#']]]"
      ]
     },
     "execution_count": 72,
     "metadata": {},
     "output_type": "execute_result"
    }
   ],
   "source": [
    "# test add_wall\n",
    "test_grid, n_walls, walls_loc = add_walls(test_grid,0.25)\n",
    "test_grid"
   ]
  },
  {
   "cell_type": "code",
   "execution_count": 73,
   "metadata": {},
   "outputs": [
    {
     "name": "stdout",
     "output_type": "stream",
     "text": [
      "4\n"
     ]
    },
    {
     "data": {
      "text/plain": [
       "[[(0, 1), (3, 2), (1, 2), (3, 1)], [(3, 2), (0, 2), (3, 3), (2, 3)]]"
      ]
     },
     "execution_count": 73,
     "metadata": {},
     "output_type": "execute_result"
    }
   ],
   "source": [
    "print(n_walls)\n",
    "walls_loc"
   ]
  },
  {
   "cell_type": "code",
   "execution_count": 74,
   "metadata": {},
   "outputs": [
    {
     "name": "stdout",
     "output_type": "stream",
     "text": [
      "[[(0, 0), (0, 2), (0, 3), (1, 0), (1, 1), (1, 3), (2, 0), (2, 1), (2, 2), (2, 3), (3, 0), (3, 3)], [(0, 0), (0, 1), (0, 3), (1, 0), (1, 1), (1, 2), (1, 3), (2, 0), (2, 1), (2, 2), (3, 0), (3, 1)]]\n"
     ]
    }
   ],
   "source": [
    "for i in range(2):\n",
    "    for j in walls_loc[i]:\n",
    "        empty_loc[i].remove(j)\n",
    "print(empty_loc)"
   ]
  },
  {
   "cell_type": "code",
   "execution_count": 75,
   "metadata": {},
   "outputs": [
    {
     "data": {
      "text/plain": [
       "12"
      ]
     },
     "execution_count": 75,
     "metadata": {},
     "output_type": "execute_result"
    }
   ],
   "source": [
    "len(empty_loc[0])"
   ]
  },
  {
   "cell_type": "markdown",
   "metadata": {},
   "source": [
    "## Step3: Add Wormholes "
   ]
  },
  {
   "cell_type": "code",
   "execution_count": 76,
   "metadata": {},
   "outputs": [],
   "source": [
    "def add_wormholes(walls_added_grids:list, n_wormholes:int, empty_loc:list):\n",
    "    '''\n",
    "    Add wormholes on grids that already add walls\n",
    "    parameter:\n",
    "        walls_added_grids: grids already add walls\n",
    "        n_wormholes: number of wormholes in each grid\n",
    "        empty_loc: list of locations that are still empty\n",
    "    return:\n",
    "        wormhole_added_grids: grids already add wormholes\n",
    "        empty_loc: list of locations that are still empty\n",
    "    '''\n",
    "    wormhole_names = [chr(i) for i in range(65,91)]\n",
    "    for n in range(n_wormholes):\n",
    "        (tp_0_i, tp_0_j) = random.sample(empty_loc[0], 1)[0]\n",
    "        walls_added_grids[0][tp_0_i][tp_0_j] = wormhole_names[n]\n",
    "        empty_loc[0].remove((tp_0_i, tp_0_j))\n",
    "        (tp_1_i, tp_1_j) = random.sample(empty_loc[1], 1)[0]\n",
    "        empty_loc[1].remove((tp_1_i, tp_1_j))\n",
    "        walls_added_grids[1][tp_1_i][tp_1_j] = wormhole_names[n]\n",
    "    wormhole_added_grids = walls_added_grids\n",
    "    return wormhole_added_grids, empty_loc"
   ]
  },
  {
   "cell_type": "code",
   "execution_count": 77,
   "metadata": {},
   "outputs": [
    {
     "data": {
      "text/plain": [
       "[[['_', '#', '_', '_'],\n",
       "  ['B', '_', '#', '_'],\n",
       "  ['A', '_', '_', '_'],\n",
       "  ['_', '#', '#', '_']],\n",
       " [['_', '_', '#', '_'],\n",
       "  ['_', 'A', '_', 'B'],\n",
       "  ['_', '_', '_', '#'],\n",
       "  ['_', '_', '#', '#']]]"
      ]
     },
     "execution_count": 77,
     "metadata": {},
     "output_type": "execute_result"
    }
   ],
   "source": [
    "# test add_wormholes\n",
    "wormhole_added_grids, empty_loc = add_wormholes(test_grid, 2, empty_loc)\n",
    "wormhole_added_grids"
   ]
  },
  {
   "cell_type": "code",
   "execution_count": 78,
   "metadata": {},
   "outputs": [
    {
     "name": "stdout",
     "output_type": "stream",
     "text": [
      "[[(0, 0), (0, 2), (0, 3), (1, 1), (1, 3), (2, 1), (2, 2), (2, 3), (3, 0), (3, 3)], [(0, 0), (0, 1), (0, 3), (1, 0), (1, 2), (2, 0), (2, 1), (2, 2), (3, 0), (3, 1)]]\n",
      "10\n"
     ]
    }
   ],
   "source": [
    "print(empty_loc)\n",
    "print(len(empty_loc[0]))"
   ]
  },
  {
   "cell_type": "markdown",
   "metadata": {},
   "source": [
    "## Step4: Add Light Bulbs"
   ]
  },
  {
   "cell_type": "code",
   "execution_count": 79,
   "metadata": {},
   "outputs": [
    {
     "name": "stdout",
     "output_type": "stream",
     "text": [
      "[[(0, 0), (0, 2), (0, 3), (1, 1), (1, 3), (2, 1), (2, 2), (2, 3), (3, 0), (3, 3)], [(0, 0), (0, 1), (0, 3), (1, 0), (1, 2), (2, 0), (2, 1), (2, 2), (3, 0), (3, 1)]]\n",
      "10\n"
     ]
    }
   ],
   "source": [
    "empty_and_not_lit_loc = copy.deepcopy(empty_loc)\n",
    "print(empty_and_not_lit_loc)\n",
    "print(len(empty_and_not_lit_loc[0]))"
   ]
  },
  {
   "cell_type": "code",
   "execution_count": 80,
   "metadata": {},
   "outputs": [
    {
     "data": {
      "text/plain": [
       "[[(0, 0), (0, 2), (1, 1), (1, 3), (2, 1), (2, 2), (3, 0), (3, 3)],\n",
       " [(0, 1), (0, 3), (1, 2), (2, 2), (3, 1)]]"
      ]
     },
     "execution_count": 80,
     "metadata": {},
     "output_type": "execute_result"
    }
   ],
   "source": [
    "# create prio_bulb_loc(the cells adjacent to walls)\n",
    "prio_bulb_loc = []\n",
    "for i in range(len(empty_loc)): # i 第几个grid eg:0\n",
    "    prio_bulb_loc.append([])\n",
    "    for j in empty_loc[i]: # j 当前这个grid的某个empty loc eg:(0,2)\n",
    "        flag = False\n",
    "        if j[0]-1>=0: # up\n",
    "            if wormhole_added_grids[i][j[0]-1][j[1]] == '#':\n",
    "                flag = True\n",
    "        if j[0]+1<len(wormhole_added_grids[i]): # down\n",
    "            if wormhole_added_grids[i][j[0]+1][j[1]] == '#':\n",
    "                flag = True\n",
    "        if j[1]-1>=0: #left\n",
    "            if wormhole_added_grids[i][j[0]][j[1]-1] == '#':\n",
    "                flag = True\n",
    "        if j[1]+1<len(wormhole_added_grids[i][0]): # right\n",
    "            if wormhole_added_grids[i][j[0]][j[1]+1] == '#':\n",
    "                flag = True\n",
    "        if flag:\n",
    "            prio_bulb_loc[i].append(j)\n",
    "\n",
    "prio_bulb_loc"
   ]
  },
  {
   "cell_type": "code",
   "execution_count": 81,
   "metadata": {},
   "outputs": [],
   "source": [
    "def light_up(wormhole_added_grids: list, bulb_loc: list, empty_and_not_lit_loc: list, prio_bulb_loc: list):\n",
    "    '''\n",
    "    update record after adding a bulb on bulb_loc\n",
    "    parameters:\n",
    "        wormhole_added_grids: grids already add wormholes\n",
    "        bulb_loc: the location that you want to put a bulb \n",
    "            eg:[x,y,z] - xth gird, yth row, zth column\n",
    "        empty_and_not_lit_loc: location of empty and not lit cells\n",
    "    return:\n",
    "        wormhole_added_grids: grids after adding a bulb on bulb_loc\n",
    "        empty_and_not_lit_loc: location of empty and not lit cells\n",
    "    '''\n",
    "    wormhole_added_grids[bulb_loc[0]][bulb_loc[1]][bulb_loc[2]] = '*'\n",
    "    # light up\n",
    "    \n",
    "    ## up\n",
    "    cur_loc = copy.deepcopy(bulb_loc)\n",
    "    cur_loc[1] -= 1\n",
    "    while cur_loc[1]>=0:\n",
    "        # case1: current cell is empty and not lit by other bulbs -> light up it\n",
    "        if wormhole_added_grids[cur_loc[0]][cur_loc[1]][cur_loc[2]] == '_':\n",
    "            wormhole_added_grids[cur_loc[0]][cur_loc[1]][cur_loc[2]] ='^'\n",
    "            empty_and_not_lit_loc[cur_loc[0]].remove((cur_loc[1],cur_loc[2]))\n",
    "            if (cur_loc[1], cur_loc[2]) in prio_bulb_loc[cur_loc[0]]:\n",
    "                prio_bulb_loc[cur_loc[0]].remove((cur_loc[1], cur_loc[2]))\n",
    "            \n",
    "        # case2: current cell is a wormhole -> go to another gird's corresponding wormhole\n",
    "        if wormhole_added_grids[cur_loc[0]][cur_loc[1]][cur_loc[2]] in [chr(i) for i in range(65,91)]:\n",
    "            wormhole = wormhole_added_grids[cur_loc[0]][cur_loc[1]][cur_loc[2]] # eg: 'A','B'...\n",
    "            tp_grid_index = 1-cur_loc[0]\n",
    "            tp_i = list(_flatten(wormhole_added_grids[tp_grid_index])).index(wormhole) // len(wormhole_added_grids[tp_grid_index][0])\n",
    "            tp_j = list(_flatten(wormhole_added_grids[tp_grid_index])).index(wormhole) % len(wormhole_added_grids[tp_grid_index][0])\n",
    "            cur_loc = [tp_grid_index, tp_i, tp_j]\n",
    "        # case3: current cell is a wall -> stop here\n",
    "        if wormhole_added_grids[cur_loc[0]][cur_loc[1]][cur_loc[2]] == '#':\n",
    "            break\n",
    "        # case4: jump in a loop of wormhole\n",
    "        if cur_loc == bulb_loc:\n",
    "            break\n",
    "            \n",
    "        cur_loc[1] -= 1\n",
    "        \n",
    "    ## down\n",
    "    cur_loc = copy.deepcopy(bulb_loc)\n",
    "    cur_loc[1] += 1\n",
    "    while cur_loc[1]<len(wormhole_added_grids[cur_loc[0]]):\n",
    "        # case1: current cell is empty and not lit by other bulbs -> light up it\n",
    "        if wormhole_added_grids[cur_loc[0]][cur_loc[1]][cur_loc[2]] == '_':\n",
    "            wormhole_added_grids[cur_loc[0]][cur_loc[1]][cur_loc[2]] ='^'\n",
    "            empty_and_not_lit_loc[cur_loc[0]].remove((cur_loc[1],cur_loc[2]))\n",
    "            if (cur_loc[1], cur_loc[2]) in prio_bulb_loc[cur_loc[0]]:\n",
    "                prio_bulb_loc[cur_loc[0]].remove((cur_loc[1], cur_loc[2]))\n",
    "        # case2: current cell is a wormhole -> go to another gird's corresponding wormhole\n",
    "        if wormhole_added_grids[cur_loc[0]][cur_loc[1]][cur_loc[2]] in [chr(i) for i in range(65,91)]:\n",
    "            wormhole = wormhole_added_grids[cur_loc[0]][cur_loc[1]][cur_loc[2]] # eg: 'A','B'...\n",
    "            tp_grid_index = 1-cur_loc[0]\n",
    "            tp_i = list(_flatten(wormhole_added_grids[tp_grid_index])).index(wormhole) // len(wormhole_added_grids[tp_grid_index][0])\n",
    "            tp_j = list(_flatten(wormhole_added_grids[tp_grid_index])).index(wormhole) % len(wormhole_added_grids[tp_grid_index][0])\n",
    "            cur_loc = [tp_grid_index, tp_i, tp_j]\n",
    "        # case3: current cell is a wall -> stop here\n",
    "        if wormhole_added_grids[cur_loc[0]][cur_loc[1]][cur_loc[2]] == '#':\n",
    "            break    \n",
    "        # case4: jump in a loop of wormhole\n",
    "        if cur_loc == bulb_loc:\n",
    "            break\n",
    "            \n",
    "        cur_loc[1] += 1\n",
    "        \n",
    "    ## left\n",
    "    cur_loc = copy.deepcopy(bulb_loc)\n",
    "    cur_loc[2] -= 1\n",
    "    while cur_loc[2]>=0:\n",
    "        # case1: current cell is empty and not lit by other bulbs -> light up it\n",
    "        if wormhole_added_grids[cur_loc[0]][cur_loc[1]][cur_loc[2]] == '_':\n",
    "            wormhole_added_grids[cur_loc[0]][cur_loc[1]][cur_loc[2]] ='^'\n",
    "            empty_and_not_lit_loc[cur_loc[0]].remove((cur_loc[1],cur_loc[2]))\n",
    "            if (cur_loc[1], cur_loc[2]) in prio_bulb_loc[cur_loc[0]]:\n",
    "                prio_bulb_loc[cur_loc[0]].remove((cur_loc[1], cur_loc[2]))\n",
    "        # case2: current cell is a wormhole -> go to another gird's corresponding wormhole\n",
    "        if wormhole_added_grids[cur_loc[0]][cur_loc[1]][cur_loc[2]] in [chr(i) for i in range(65,91)]:\n",
    "            wormhole = wormhole_added_grids[cur_loc[0]][cur_loc[1]][cur_loc[2]] # eg: 'A','B'...\n",
    "            tp_grid_index = 1-cur_loc[0]\n",
    "            tp_i = list(_flatten(wormhole_added_grids[tp_grid_index])).index(wormhole) // len(wormhole_added_grids[tp_grid_index][0])\n",
    "            tp_j = list(_flatten(wormhole_added_grids[tp_grid_index])).index(wormhole) % len(wormhole_added_grids[tp_grid_index][0])\n",
    "            cur_loc = [tp_grid_index, tp_i, tp_j]\n",
    "        # case3: current cell is a wall -> stop here\n",
    "        if wormhole_added_grids[cur_loc[0]][cur_loc[1]][cur_loc[2]] == '#':\n",
    "            break\n",
    "        # case4: jump in a loop of wormhole\n",
    "        if cur_loc == bulb_loc:\n",
    "            break\n",
    "            \n",
    "        cur_loc[2] -= 1\n",
    "        \n",
    "    ## right\n",
    "    cur_loc = copy.deepcopy(bulb_loc)\n",
    "    cur_loc[2] += 1\n",
    "    while cur_loc[2]<len(wormhole_added_grids[cur_loc[0]][0]):\n",
    "        # case1: current cell is empty and not lit by other bulbs -> light up it\n",
    "        if wormhole_added_grids[cur_loc[0]][cur_loc[1]][cur_loc[2]] == '_':\n",
    "            wormhole_added_grids[cur_loc[0]][cur_loc[1]][cur_loc[2]] ='^'\n",
    "            empty_and_not_lit_loc[cur_loc[0]].remove((cur_loc[1],cur_loc[2]))\n",
    "            if (cur_loc[1], cur_loc[2]) in prio_bulb_loc[cur_loc[0]]:\n",
    "                prio_bulb_loc[cur_loc[0]].remove((cur_loc[1], cur_loc[2]))\n",
    "        # case2: current cell is a wormhole -> go to another gird's corresponding wormhole\n",
    "        if wormhole_added_grids[cur_loc[0]][cur_loc[1]][cur_loc[2]] in [chr(i) for i in range(65,91)]:\n",
    "            wormhole = wormhole_added_grids[cur_loc[0]][cur_loc[1]][cur_loc[2]] # eg: 'A','B'...\n",
    "            tp_grid_index = 1-cur_loc[0]\n",
    "            tp_i = list(_flatten(wormhole_added_grids[tp_grid_index])).index(wormhole) // len(wormhole_added_grids[tp_grid_index][0])\n",
    "            tp_j = list(_flatten(wormhole_added_grids[tp_grid_index])).index(wormhole) % len(wormhole_added_grids[tp_grid_index][0])\n",
    "            cur_loc = [tp_grid_index, tp_i, tp_j]\n",
    "        # case3: current cell is a wall -> stop here\n",
    "        if wormhole_added_grids[cur_loc[0]][cur_loc[1]][cur_loc[2]] == '#':\n",
    "            break\n",
    "        # case4: jump in a loop of wormhole\n",
    "        if cur_loc == bulb_loc:\n",
    "            break\n",
    "            \n",
    "        cur_loc[2] += 1\n",
    "        \n",
    "    return wormhole_added_grids, empty_and_not_lit_loc, prio_bulb_loc"
   ]
  },
  {
   "cell_type": "code",
   "execution_count": 82,
   "metadata": {},
   "outputs": [],
   "source": [
    "# test light_up function\n",
    "# light_up(wormhole_added_grids, [0,0,1], empty_and_not_lit_loc)"
   ]
  },
  {
   "cell_type": "code",
   "execution_count": 83,
   "metadata": {},
   "outputs": [
    {
     "data": {
      "text/plain": [
       "([[['_', 'A', '_'], ['^', '*', '^'], ['_', 'B', '_']],\n",
       "  [['_', 'B', '_'], ['_', '^', '_'], ['_', 'A', '_']]],\n",
       " [[(0, 0), (0, 2), (1, 1), (2, 0), (2, 2)],\n",
       "  [(0, 0), (0, 2), (1, 0), (1, 2), (2, 0), (2, 2)]],\n",
       " [[], []])"
      ]
     },
     "execution_count": 83,
     "metadata": {},
     "output_type": "execute_result"
    }
   ],
   "source": [
    "# test wormhole loop case\n",
    "test_grid = [[['_', 'A', '_'],['_', '_', '_'],['_', 'B', '_']],\n",
    "             [['_', 'B', '_'],['_', '_', '_'],['_', 'A', '_']]]\n",
    "light_up(test_grid, [0,1,1], [[(0,0),(0,2),(1,0),(1,1),(1,2),(2,0),(2,2)],[(0,0),(0,2),(1,0),(1,1),(1,2),(2,0),(2,2)]],[[],[]])"
   ]
  },
  {
   "cell_type": "code",
   "execution_count": 84,
   "metadata": {},
   "outputs": [
    {
     "data": {
      "text/plain": [
       "[[(0, 0), (0, 2), (1, 1), (1, 3), (2, 1), (2, 2), (3, 0), (3, 3)],\n",
       " [(0, 1), (0, 3), (1, 2), (2, 2), (3, 1)]]"
      ]
     },
     "execution_count": 84,
     "metadata": {},
     "output_type": "execute_result"
    }
   ],
   "source": [
    "prio_bulb_loc"
   ]
  },
  {
   "cell_type": "code",
   "execution_count": 85,
   "metadata": {},
   "outputs": [
    {
     "data": {
      "text/plain": [
       "[[['_', '#', '_', '_'],\n",
       "  ['B', '_', '#', '_'],\n",
       "  ['A', '_', '_', '_'],\n",
       "  ['_', '#', '#', '_']],\n",
       " [['_', '_', '#', '_'],\n",
       "  ['_', 'A', '_', 'B'],\n",
       "  ['_', '_', '_', '#'],\n",
       "  ['_', '_', '#', '#']]]"
      ]
     },
     "execution_count": 85,
     "metadata": {},
     "output_type": "execute_result"
    }
   ],
   "source": [
    "wormhole_added_grids"
   ]
  },
  {
   "cell_type": "code",
   "execution_count": 86,
   "metadata": {},
   "outputs": [],
   "source": [
    "def add_light_bulbs(wormhole_added_grids:list, empty_and_not_lit_loc:list, empty_loc:list ,prio_bulb_loc:list):\n",
    "    '''\n",
    "    Add light bulbs on girds until all cells are not empty or lit by other bulbs. To make it much easier to use numbers on walls \n",
    "    to restrict bulbs' location(higher probability to be unique solution), add bulbs in prio_bulb_loc first randomly, \n",
    "    and then consider other location. \n",
    "    parameters:\n",
    "        wormhole_added_grids: grids already add wormholes\n",
    "        empty_and_not_lit_loc: location of empty and not lit cells\n",
    "        empty_loc: list of locations that are still empty\n",
    "        prio_bulb_loc: the cells adjacent to walls\n",
    "    return:\n",
    "        bulb_added_grids: grids after adding light bulbs\n",
    "    '''\n",
    "    flag = True\n",
    "    #while len(empty_and_not_lit_loc)>0:\n",
    "    while flag:\n",
    "        \n",
    "        # random select a bulb_loc\n",
    "        ## random select a grid\n",
    "        if len(empty_and_not_lit_loc[0])>0 and len(empty_and_not_lit_loc[1])>0:\n",
    "            tp_grid_index = random.sample(range(len(wormhole_added_grids)),1)[0]\n",
    "        elif len(empty_and_not_lit_loc[0])==0:\n",
    "            tp_grid_index = 1\n",
    "        elif len(empty_and_not_lit_loc[1])==0:\n",
    "            tp_grid_index = 0\n",
    "        ## random select a cell in current grid\n",
    "        if len(prio_bulb_loc[tp_grid_index])>0:\n",
    "            tp_loc = random.sample(prio_bulb_loc[tp_grid_index],1)[0]\n",
    "            prio_bulb_loc[tp_grid_index].remove(tp_loc)\n",
    "            empty_and_not_lit_loc[tp_grid_index].remove(tp_loc)\n",
    "            empty_loc[tp_grid_index].remove(tp_loc)\n",
    "        elif len(prio_bulb_loc[tp_grid_index])==0:\n",
    "            tp_loc = random.sample(empty_and_not_lit_loc[tp_grid_index],1)[0]\n",
    "            empty_and_not_lit_loc[tp_grid_index].remove(tp_loc)\n",
    "            empty_loc[tp_grid_index].remove(tp_loc)        \n",
    "        wormhole_added_grids, empty_and_not_lit_loc, prio_bulb_loc = light_up(wormhole_added_grids, [tp_grid_index,tp_loc[0],tp_loc[1]], empty_and_not_lit_loc, prio_bulb_loc)\n",
    "        \n",
    "        # if no cell is available:\n",
    "        if len(empty_and_not_lit_loc[0])==0 and len(empty_and_not_lit_loc[1])==0:\n",
    "            flag = False\n",
    "            \n",
    "        bulb_added_grids = wormhole_added_grids\n",
    "    return bulb_added_grids"
   ]
  },
  {
   "cell_type": "code",
   "execution_count": 87,
   "metadata": {},
   "outputs": [
    {
     "data": {
      "text/plain": [
       "[[['*', '#', '*', '^'],\n",
       "  ['B', '^', '#', '*'],\n",
       "  ['A', '^', '*', '^'],\n",
       "  ['*', '#', '#', '^']],\n",
       " [['^', '^', '#', '*'],\n",
       "  ['^', 'A', '*', 'B'],\n",
       "  ['*', '^', '^', '#'],\n",
       "  ['^', '^', '#', '#']]]"
      ]
     },
     "execution_count": 87,
     "metadata": {},
     "output_type": "execute_result"
    }
   ],
   "source": [
    "bulb_added_grids = add_light_bulbs(wormhole_added_grids, empty_and_not_lit_loc, empty_loc ,prio_bulb_loc)\n",
    "bulb_added_grids"
   ]
  },
  {
   "cell_type": "markdown",
   "metadata": {},
   "source": [
    "## Step5: Add numbers on walls"
   ]
  },
  {
   "cell_type": "code",
   "execution_count": 88,
   "metadata": {},
   "outputs": [
    {
     "data": {
      "text/plain": [
       "[[(0, 1), (3, 2), (1, 2), (3, 1)], [(3, 2), (0, 2), (3, 3), (2, 3)]]"
      ]
     },
     "execution_count": 88,
     "metadata": {},
     "output_type": "execute_result"
    }
   ],
   "source": [
    "walls_loc"
   ]
  },
  {
   "cell_type": "code",
   "execution_count": 89,
   "metadata": {},
   "outputs": [
    {
     "data": {
      "text/plain": [
       "[(1, 3)]"
      ]
     },
     "execution_count": 89,
     "metadata": {},
     "output_type": "execute_result"
    }
   ],
   "source": [
    "random.sample([(1, 3), (1, 0), (0, 0), (3, 2)],1)"
   ]
  },
  {
   "cell_type": "code",
   "execution_count": 93,
   "metadata": {},
   "outputs": [],
   "source": [
    "def add_numbers_on_walls(bulb_added_grids: list, walls_loc:list, hard:bool):\n",
    "    '''\n",
    "    Add numbers on walls to restrict bulb location, based on difficult:\n",
    "        easy: record numbers on all walls\n",
    "        hard: remain some walls without bulb number\n",
    "    parameters:\n",
    "        bulb_added_grids: grids after adding light bulbs\n",
    "        walls_loc: walls' location\n",
    "        hard: difficulty(True: hard, False: easy)\n",
    "    return:\n",
    "        \n",
    "    '''\n",
    "    hard_ind = 0.8 # update around 80% walls\n",
    "    update_walls_loc = copy.deepcopy(walls_loc)\n",
    "    if hard:\n",
    "        for i in range(2):\n",
    "            del_index = copy.deepcopy(random.sample(walls_loc[i],round(len(walls_loc[i])*(1-hard_ind))))\n",
    "            for j in del_index:\n",
    "                update_walls_loc[i].remove(j)\n",
    "                \n",
    "    numbers_on_walls = []\n",
    "    for i in range(2):\n",
    "        #numbers_on_walls.append([])\n",
    "        for j in update_walls_loc[i]:\n",
    "            tp = 0\n",
    "            if j[0]-1>=0: # up\n",
    "                if bulb_added_grids[i][j[0]-1][j[1]] == '*':\n",
    "                    tp += 1\n",
    "            if j[0]+1<len(bulb_added_grids[i]): # down\n",
    "                if bulb_added_grids[i][j[0]+1][j[1]] == '*':\n",
    "                    tp += 1\n",
    "            if j[1]-1>=0: #left\n",
    "                if bulb_added_grids[i][j[0]][j[1]-1] == '*':\n",
    "                    tp += 1\n",
    "            if j[1]+1<len(bulb_added_grids[i][0]): # right\n",
    "                if bulb_added_grids[i][j[0]][j[1]+1] == '*':\n",
    "                    tp += 1\n",
    "            #numbers_on_walls[i].append(tp)\n",
    "            bulb_added_grids[i][j[0]][j[1]] = tp\n",
    "    number_added_grids = bulb_added_grids\n",
    "    return number_added_grids"
   ]
  },
  {
   "cell_type": "code",
   "execution_count": 97,
   "metadata": {},
   "outputs": [
    {
     "data": {
      "text/plain": [
       "[[['*', 2, '*', '^'],\n",
       "  ['B', '^', 3, '*'],\n",
       "  ['A', '^', '*', '^'],\n",
       "  ['*', 1, 1, '^']],\n",
       " [['^', '^', 2, '*'],\n",
       "  ['^', 'A', '*', 'B'],\n",
       "  ['*', '^', '^', 0],\n",
       "  ['^', '^', 0, 0]]]"
      ]
     },
     "execution_count": 97,
     "metadata": {},
     "output_type": "execute_result"
    }
   ],
   "source": [
    "number_added_grids = add_numbers_on_walls(bulb_added_grids, walls_loc, True)\n",
    "number_added_grids"
   ]
  },
  {
   "cell_type": "code",
   "execution_count": 100,
   "metadata": {},
   "outputs": [],
   "source": [
    "# create an unverified puzzle:\n",
    "for g in range(len(number_added_grids)):\n",
    "    for i in range(len(number_added_grids[g])):\n",
    "        for j in range(len(number_added_grids[g][i])):\n",
    "            if number_added_grids[g][i][j] == '*' or number_added_grids[g][i][j] == '^':\n",
    "                number_added_grids[g][i][j] = '_'"
   ]
  },
  {
   "cell_type": "code",
   "execution_count": 101,
   "metadata": {},
   "outputs": [
    {
     "data": {
      "text/plain": [
       "[[['_', 2, '_', '_'],\n",
       "  ['B', '_', 3, '_'],\n",
       "  ['A', '_', '_', '_'],\n",
       "  ['_', 1, 1, '_']],\n",
       " [['_', '_', 2, '_'],\n",
       "  ['_', 'A', '_', 'B'],\n",
       "  ['_', '_', '_', 0],\n",
       "  ['_', '_', 0, 0]]]"
      ]
     },
     "execution_count": 101,
     "metadata": {},
     "output_type": "execute_result"
    }
   ],
   "source": [
    "number_added_grids"
   ]
  },
  {
   "cell_type": "markdown",
   "metadata": {},
   "source": [
    "## Step6: Verify whether it is unique solution"
   ]
  },
  {
   "cell_type": "code",
   "execution_count": null,
   "metadata": {},
   "outputs": [],
   "source": [
    "############# TO Do: Use solving function to verify ##########"
   ]
  },
  {
   "cell_type": "markdown",
   "metadata": {},
   "source": [
    "# Solving Puzzle"
   ]
  },
  {
   "cell_type": "code",
   "execution_count": null,
   "metadata": {},
   "outputs": [],
   "source": [
    "'''\n",
    "Unify Encoding:\n",
    "\n",
    "'*': light bulb  \n",
    "'#': wall(black square) without number  \n",
    "'0-4': wall(black square) with number  \n",
    "'A-Z': wormhole (same character on different grid means same pair of wormholes)\n",
    "'_': empty cell(no wall/light bulb/wormhole)\n",
    "'!': can not put light bulb\n",
    "'^': empty but lit by other bulbs\n",
    "'''"
   ]
  },
  {
   "cell_type": "markdown",
   "metadata": {},
   "source": [
    "## To Saxue:\n",
    "### TO DO: \n",
    "#### 1. Solving puzzle part (logic can refer to the pdf,  deduction first, if not enough, dfs)\n",
    "#### 2. Display"
   ]
  },
  {
   "cell_type": "code",
   "execution_count": null,
   "metadata": {},
   "outputs": [],
   "source": []
  }
 ],
 "metadata": {
  "kernelspec": {
   "display_name": "Python 3",
   "language": "python",
   "name": "python3"
  },
  "language_info": {
   "codemirror_mode": {
    "name": "ipython",
    "version": 3
   },
   "file_extension": ".py",
   "mimetype": "text/x-python",
   "name": "python",
   "nbconvert_exporter": "python",
   "pygments_lexer": "ipython3",
   "version": "3.6.5"
  }
 },
 "nbformat": 4,
 "nbformat_minor": 2
}
