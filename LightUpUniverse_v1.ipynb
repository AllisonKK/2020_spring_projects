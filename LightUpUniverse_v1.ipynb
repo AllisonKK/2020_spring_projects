{
 "cells": [
  {
   "cell_type": "code",
   "execution_count": 1,
   "metadata": {},
   "outputs": [],
   "source": [
    "import copy\n",
    "import random\n",
    "import time"
   ]
  },
  {
   "cell_type": "code",
   "execution_count": null,
   "metadata": {},
   "outputs": [],
   "source": [
    "'''\n",
    "Unify Encoding:\n",
    "\n",
    "'*': light bulb  \n",
    "'#': wall(black square) without number  \n",
    "'0-4': wall(black square) with number  \n",
    "'A-Z': wormhole (same character on different grid means same pair of wormholes)\n",
    "'_': empty cell(no wall/light bulb/wormhole)\n",
    "'!': can not put light bulb\n",
    "'^': empty but lit by other bulbs\n",
    "'''"
   ]
  },
  {
   "cell_type": "markdown",
   "metadata": {},
   "source": [
    "## Step1: Initialization"
   ]
  },
  {
   "cell_type": "code",
   "execution_count": 29,
   "metadata": {},
   "outputs": [],
   "source": [
    "def init_grids(size:tuple):\n",
    "    '''\n",
    "    Initialize grids based on given size.\n",
    "    parameter:\n",
    "        size: size of the grids(eg:(4,4) both grids are 4 by 4 grid)\n",
    "    return: \n",
    "        grids: [grid0, grid1]\n",
    "    '''\n",
    "    grid0 = []\n",
    "    for i in range(size[0]):\n",
    "        grid0.append([])\n",
    "        for j in range(size[1]):\n",
    "            grid0[i].append('_')\n",
    "    grid1 = copy.deepcopy(grid0)\n",
    "    init_grids = [grid0,grid1]\n",
    "    return init_grids"
   ]
  },
  {
   "cell_type": "code",
   "execution_count": 30,
   "metadata": {},
   "outputs": [
    {
     "data": {
      "text/plain": [
       "[[['_', '_', '_', '_'],\n",
       "  ['_', '_', '_', '_'],\n",
       "  ['_', '_', '_', '_'],\n",
       "  ['_', '_', '_', '_']],\n",
       " [['#', '_', '_', '_'],\n",
       "  ['_', '_', '_', '_'],\n",
       "  ['_', '_', '_', '_'],\n",
       "  ['_', '_', '_', '_']]]"
      ]
     },
     "execution_count": 30,
     "metadata": {},
     "output_type": "execute_result"
    }
   ],
   "source": [
    "test_grid = init_grids((4,4))\n",
    "test_grid[1][0][0]='#'\n",
    "test_grid"
   ]
  },
  {
   "cell_type": "markdown",
   "metadata": {},
   "source": [
    "## Step2: Add Walls"
   ]
  },
  {
   "cell_type": "code",
   "execution_count": 56,
   "metadata": {},
   "outputs": [],
   "source": [
    "def add_walls(init_grids: list, wall_per: float):\n",
    "    '''\n",
    "    Add walls on init_grid, based on wall_per.\n",
    "    parameter：\n",
    "        init_grid: empty initialized grids\n",
    "        wall_per: percentage of black squares\n",
    "    return:\n",
    "        grids after adding walls\n",
    "    '''\n",
    "    grids = init_grids\n",
    "    r, c = len(init_grids[0]), len(init_grids[0][0])\n",
    "    n_cells = r*c\n",
    "    n_walls = int(n_cells*wall_per)\n",
    "    for i in range(2):\n",
    "        tp = random.sample(range(n_cells), n_walls)\n",
    "        for j in tp:\n",
    "            tp_i = j//c\n",
    "            tp_j = j%c\n",
    "            grids[i][tp_i][tp_j] = '#'\n",
    "    return grids,n_walls"
   ]
  },
  {
   "cell_type": "code",
   "execution_count": 57,
   "metadata": {},
   "outputs": [
    {
     "data": {
      "text/plain": [
       "([[['_', '_', '_', '#'],\n",
       "   ['_', '_', '#', '_'],\n",
       "   ['_', '_', '_', '#'],\n",
       "   ['_', '_', '#', '_']],\n",
       "  [['_', '#', '_', '_'],\n",
       "   ['_', '_', '_', '_'],\n",
       "   ['_', '_', '#', '#'],\n",
       "   ['#', '_', '_', '_']]],\n",
       " 4)"
      ]
     },
     "execution_count": 57,
     "metadata": {},
     "output_type": "execute_result"
    }
   ],
   "source": [
    "test_grid = init_grids((4,4))\n",
    "add_walls(test_grid,0.25)"
   ]
  },
  {
   "cell_type": "code",
   "execution_count": null,
   "metadata": {},
   "outputs": [],
   "source": []
  }
 ],
 "metadata": {
  "kernelspec": {
   "display_name": "Python 3",
   "language": "python",
   "name": "python3"
  },
  "language_info": {
   "codemirror_mode": {
    "name": "ipython",
    "version": 3
   },
   "file_extension": ".py",
   "mimetype": "text/x-python",
   "name": "python",
   "nbconvert_exporter": "python",
   "pygments_lexer": "ipython3",
   "version": "3.6.5"
  }
 },
 "nbformat": 4,
 "nbformat_minor": 2
}
