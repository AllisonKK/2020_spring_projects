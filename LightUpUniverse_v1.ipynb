{
 "cells": [
  {
   "cell_type": "code",
   "execution_count": 26,
   "metadata": {},
   "outputs": [],
   "source": [
    "import copy\n",
    "import random\n",
    "import time"
   ]
  },
  {
   "cell_type": "code",
   "execution_count": null,
   "metadata": {},
   "outputs": [],
   "source": [
    "'''\n",
    "Unify Encoding:\n",
    "\n",
    "'*': light bulb  \n",
    "'#': wall(black square) without number  \n",
    "'0-4': wall(black square) with number  \n",
    "'A-Z': wormhole (same character on different grid means same pair of wormholes)\n",
    "'_': empty cell(no wall/light bulb/wormhole)\n",
    "'!': can not put light bulb\n",
    "'^': empty but lit by other bulbs\n",
    "'''"
   ]
  },
  {
   "cell_type": "markdown",
   "metadata": {},
   "source": [
    "## Step1: Initialization"
   ]
  },
  {
   "cell_type": "code",
   "execution_count": 116,
   "metadata": {},
   "outputs": [],
   "source": [
    "def init_grids(size:tuple):\n",
    "    '''\n",
    "    Initialize grids based on given size.\n",
    "    parameter:\n",
    "        size: size of the grids(eg:(4,4) both grids are 4 by 4 grid)\n",
    "    return: \n",
    "        grids: [grid0, grid1]\n",
    "        empty_loc: emptu locations(all)\n",
    "    '''\n",
    "    grid0 = []\n",
    "    tp_empty_loc0 = []\n",
    "    \n",
    "    for i in range(size[0]):\n",
    "        grid0.append([])\n",
    "        for j in range(size[1]):\n",
    "            grid0[i].append('_')\n",
    "            tp_empty_loc0.append((i,j))\n",
    "            \n",
    "    grid1 = copy.deepcopy(grid0)\n",
    "    tp_empty_loc1 = copy.deepcopy(tp_empty_loc0)\n",
    "    \n",
    "    init_grids = [grid0,grid1]\n",
    "    empty_loc = [tp_empty_loc0, tp_empty_loc1]\n",
    "    \n",
    "    return init_grids, empty_loc"
   ]
  },
  {
   "cell_type": "code",
   "execution_count": 117,
   "metadata": {},
   "outputs": [
    {
     "data": {
      "text/plain": [
       "[[['_', '_', '_', '_'],\n",
       "  ['_', '_', '_', '_'],\n",
       "  ['_', '_', '_', '_'],\n",
       "  ['_', '_', '_', '_']],\n",
       " [['_', '_', '_', '_'],\n",
       "  ['_', '_', '_', '_'],\n",
       "  ['_', '_', '_', '_'],\n",
       "  ['_', '_', '_', '_']]]"
      ]
     },
     "execution_count": 117,
     "metadata": {},
     "output_type": "execute_result"
    }
   ],
   "source": [
    "test_grid,empty_loc = init_grids((4,4))\n",
    "test_grid"
   ]
  },
  {
   "cell_type": "code",
   "execution_count": 118,
   "metadata": {},
   "outputs": [
    {
     "name": "stdout",
     "output_type": "stream",
     "text": [
      "[[(0, 0), (0, 1), (0, 2), (0, 3), (1, 0), (1, 1), (1, 2), (1, 3), (2, 0), (2, 1), (2, 2), (2, 3), (3, 0), (3, 1), (3, 2), (3, 3)], [(0, 0), (0, 1), (0, 2), (0, 3), (1, 0), (1, 1), (1, 2), (1, 3), (2, 0), (2, 1), (2, 2), (2, 3), (3, 0), (3, 1), (3, 2), (3, 3)]]\n"
     ]
    }
   ],
   "source": [
    "print(empty_loc)"
   ]
  },
  {
   "cell_type": "code",
   "execution_count": 119,
   "metadata": {},
   "outputs": [
    {
     "data": {
      "text/plain": [
       "16"
      ]
     },
     "execution_count": 119,
     "metadata": {},
     "output_type": "execute_result"
    }
   ],
   "source": [
    "len(empty_loc[0])"
   ]
  },
  {
   "cell_type": "markdown",
   "metadata": {},
   "source": [
    "## Step2: Add Walls"
   ]
  },
  {
   "cell_type": "code",
   "execution_count": 120,
   "metadata": {},
   "outputs": [],
   "source": [
    "def add_walls(init_grids: list, wall_per: float):\n",
    "    '''\n",
    "    Add walls on init_grid, based on wall_per.\n",
    "    parameter：\n",
    "        init_grid: empty initialized grids\n",
    "        wall_per: percentage of black squares\n",
    "    return:\n",
    "        grids: grids after adding walls\n",
    "        n_walls: number of walls in each grid\n",
    "        walls_loc: walls' location\n",
    "    '''\n",
    "    grids = init_grids\n",
    "    r, c = len(init_grids[0]), len(init_grids[0][0])\n",
    "    n_cells = r*c\n",
    "    n_walls = int(n_cells*wall_per)\n",
    "    walls_loc = []\n",
    "    for i in range(2):\n",
    "        tp = random.sample(range(n_cells), n_walls)\n",
    "        walls_loc.append([])\n",
    "        for j in tp:\n",
    "            tp_i = j//c\n",
    "            tp_j = j%c\n",
    "            grids[i][tp_i][tp_j] = '#'\n",
    "            walls_loc[i].append((tp_i,tp_j))\n",
    "    return grids,n_walls,walls_loc"
   ]
  },
  {
   "cell_type": "code",
   "execution_count": 121,
   "metadata": {},
   "outputs": [
    {
     "data": {
      "text/plain": [
       "[[['#', '_', '_', '_'],\n",
       "  ['_', '_', '_', '_'],\n",
       "  ['#', '_', '_', '#'],\n",
       "  ['_', '_', '#', '_']],\n",
       " [['_', '_', '_', '_'],\n",
       "  ['_', '_', '_', '_'],\n",
       "  ['_', '#', '_', '#'],\n",
       "  ['_', '_', '#', '#']]]"
      ]
     },
     "execution_count": 121,
     "metadata": {},
     "output_type": "execute_result"
    }
   ],
   "source": [
    "test_grid, n_walls, walls_loc = add_walls(test_grid,0.25)\n",
    "test_grid"
   ]
  },
  {
   "cell_type": "code",
   "execution_count": 122,
   "metadata": {},
   "outputs": [
    {
     "name": "stdout",
     "output_type": "stream",
     "text": [
      "4\n"
     ]
    },
    {
     "data": {
      "text/plain": [
       "[[(2, 0), (0, 0), (3, 2), (2, 3)], [(3, 3), (3, 2), (2, 3), (2, 1)]]"
      ]
     },
     "execution_count": 122,
     "metadata": {},
     "output_type": "execute_result"
    }
   ],
   "source": [
    "print(n_walls)\n",
    "walls_loc"
   ]
  },
  {
   "cell_type": "code",
   "execution_count": 123,
   "metadata": {},
   "outputs": [
    {
     "name": "stdout",
     "output_type": "stream",
     "text": [
      "[[(0, 1), (0, 2), (0, 3), (1, 0), (1, 1), (1, 2), (1, 3), (2, 1), (2, 2), (3, 0), (3, 1), (3, 3)], [(0, 0), (0, 1), (0, 2), (0, 3), (1, 0), (1, 1), (1, 2), (1, 3), (2, 0), (2, 2), (3, 0), (3, 1)]]\n"
     ]
    }
   ],
   "source": [
    "for i in range(2):\n",
    "    for j in walls_loc[i]:\n",
    "        empty_loc[i].remove(j)\n",
    "print(empty_loc)"
   ]
  },
  {
   "cell_type": "code",
   "execution_count": 124,
   "metadata": {},
   "outputs": [
    {
     "data": {
      "text/plain": [
       "12"
      ]
     },
     "execution_count": 124,
     "metadata": {},
     "output_type": "execute_result"
    }
   ],
   "source": [
    "len(empty_loc[0])"
   ]
  },
  {
   "cell_type": "markdown",
   "metadata": {},
   "source": [
    "## Step3: Add Wormholes "
   ]
  },
  {
   "cell_type": "code",
   "execution_count": 125,
   "metadata": {},
   "outputs": [],
   "source": [
    "def add_wormholes(walls_added_grids:list, n_wormholes:int, empty_loc:list):\n",
    "    '''\n",
    "    Add wormholes on grids that already add walls\n",
    "    parameter:\n",
    "        walls_added_grids: grids already add walls\n",
    "        n_wormholes: number of wormholes in each grid\n",
    "        empty_loc: list of locations that are still empty\n",
    "    return:\n",
    "        wormhole_added_grids: grids already add wormholes\n",
    "        empty_loc: list of locations that are still empty\n",
    "    '''\n",
    "    wormhole_names = [chr(i) for i in range(65,91)]\n",
    "    for n in range(n_wormholes):\n",
    "        (tp_0_i, tp_0_j) = random.sample(empty_loc[0], 1)[0]\n",
    "        walls_added_grids[0][tp_0_i][tp_0_j] = wormhole_names[n]\n",
    "        empty_loc[0].remove((tp_0_i, tp_0_j))\n",
    "        (tp_1_i, tp_1_j) = random.sample(empty_loc[1], 1)[0]\n",
    "        empty_loc[1].remove((tp_1_i, tp_1_j))\n",
    "        walls_added_grids[1][tp_1_i][tp_1_j] = wormhole_names[n]\n",
    "    wormhole_added_grids = walls_added_grids\n",
    "    return wormhole_added_grids, empty_loc"
   ]
  },
  {
   "cell_type": "code",
   "execution_count": 126,
   "metadata": {},
   "outputs": [
    {
     "data": {
      "text/plain": [
       "[[['#', 'A', '_', '_'],\n",
       "  ['_', '_', 'B', '_'],\n",
       "  ['#', '_', '_', '#'],\n",
       "  ['_', '_', '#', '_']],\n",
       " [['_', 'A', '_', '_'],\n",
       "  ['_', '_', '_', '_'],\n",
       "  ['_', '#', '_', '#'],\n",
       "  ['_', 'B', '#', '#']]]"
      ]
     },
     "execution_count": 126,
     "metadata": {},
     "output_type": "execute_result"
    }
   ],
   "source": [
    "wormhole_added_grids, empty_loc = add_wormholes(test_grid, 2, empty_loc)\n",
    "wormhole_added_grids"
   ]
  },
  {
   "cell_type": "code",
   "execution_count": 127,
   "metadata": {},
   "outputs": [
    {
     "name": "stdout",
     "output_type": "stream",
     "text": [
      "[[(0, 2), (0, 3), (1, 0), (1, 1), (1, 3), (2, 1), (2, 2), (3, 0), (3, 1), (3, 3)], [(0, 0), (0, 2), (0, 3), (1, 0), (1, 1), (1, 2), (1, 3), (2, 0), (2, 2), (3, 0)]]\n",
      "10\n"
     ]
    }
   ],
   "source": [
    "print(empty_loc)\n",
    "print(len(empty_loc[0]))"
   ]
  },
  {
   "cell_type": "markdown",
   "metadata": {},
   "source": [
    "## Step4: Add Light Bulbs"
   ]
  },
  {
   "cell_type": "code",
   "execution_count": 131,
   "metadata": {},
   "outputs": [
    {
     "name": "stdout",
     "output_type": "stream",
     "text": [
      "[[(0, 2), (0, 3), (1, 0), (1, 1), (1, 3), (2, 1), (2, 2), (3, 0), (3, 1), (3, 3)], [(0, 0), (0, 2), (0, 3), (1, 0), (1, 1), (1, 2), (1, 3), (2, 0), (2, 2), (3, 0)]]\n",
      "10\n"
     ]
    }
   ],
   "source": [
    "empty_and_not_lit_loc = copy.deepcopy(empty_loc)\n",
    "print(empty_and_not_lit_loc)\n",
    "print(len(empty_and_not_lit_loc[0]))"
   ]
  },
  {
   "cell_type": "code",
   "execution_count": null,
   "metadata": {},
   "outputs": [],
   "source": []
  }
 ],
 "metadata": {
  "kernelspec": {
   "display_name": "Python 3",
   "language": "python",
   "name": "python3"
  },
  "language_info": {
   "codemirror_mode": {
    "name": "ipython",
    "version": 3
   },
   "file_extension": ".py",
   "mimetype": "text/x-python",
   "name": "python",
   "nbconvert_exporter": "python",
   "pygments_lexer": "ipython3",
   "version": "3.6.5"
  }
 },
 "nbformat": 4,
 "nbformat_minor": 2
}
